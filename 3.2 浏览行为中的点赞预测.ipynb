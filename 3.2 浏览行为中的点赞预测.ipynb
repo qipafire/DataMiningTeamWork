{
 "cells": [
  {
   "cell_type": "markdown",
   "metadata": {
    "id": "4DC9337F939E48A98B495E0A6281FBE0",
    "jupyter": {},
    "mdEditEnable": false,
    "notebookId": "637d66f053342897d9b9bf71",
    "runtime": {
     "execution_status": null,
     "is_visible": false,
     "status": "default"
    },
    "scrolled": false,
    "slideshow": {
     "slide_type": "slide"
    },
    "tags": [],
    "trusted": true
   },
   "source": [
    "# 用户点赞预测"
   ]
  },
  {
   "cell_type": "markdown",
   "metadata": {
    "id": "7BCF1D877598404880BE0C473BBEF490",
    "jupyter": {},
    "notebookId": "637d66f053342897d9b9bf71",
    "runtime": {
     "execution_status": null,
     "is_visible": false,
     "status": "default"
    },
    "scrolled": false,
    "slideshow": {
     "slide_type": "slide"
    },
    "tags": [],
    "trusted": true
   },
   "source": [
    "在用户对作品的浏览过程中，是否点赞是一个非常重要的指标  \n",
    "通过点赞行为，可以判断出用户的喜好，评价作品的质量等。"
   ]
  },
  {
   "cell_type": "code",
   "execution_count": 1,
   "metadata": {
    "collapsed": false,
    "id": "FFBE5B5EA2A24F7F8AE351853AAE1C05",
    "jupyter": {},
    "notebookId": "637d66f053342897d9b9bf71",
    "scrolled": false,
    "slideshow": {
     "slide_type": "slide"
    },
    "tags": [],
    "trusted": true
   },
   "outputs": [],
   "source": [
    "import numpy as np\n",
    "import pandas as pd\n",
    "\n",
    "from sklearn.model_selection import train_test_split\n",
    "from sklearn.tree import DecisionTreeClassifier\n",
    "from sklearn.ensemble import RandomForestClassifier\n",
    "from sklearn.naive_bayes import GaussianNB\n",
    "from sklearn.linear_model import LogisticRegression\n",
    "from sklearn.metrics import roc_curve, auc\n",
    "from sklearn import ensemble\n",
    "from sklearn.model_selection import GridSearchCV\n",
    "\n",
    "import matplotlib.pyplot as plt\n",
    "%matplotlib inline\n",
    "plt.rcParams['font.size'] = 20"
   ]
  },
  {
   "cell_type": "markdown",
   "metadata": {
    "id": "0B1B45A694AB46E1841D883F333D8CE5",
    "jupyter": {},
    "notebookId": "637d66f053342897d9b9bf71",
    "runtime": {
     "execution_status": null,
     "is_visible": false,
     "status": "default"
    },
    "scrolled": false,
    "slideshow": {
     "slide_type": "slide"
    },
    "tags": [],
    "trusted": true
   },
   "source": [
    "## 1. 数据读取与处理"
   ]
  },
  {
   "cell_type": "markdown",
   "metadata": {
    "id": "AEF5AD80E8F845518A3A3038E3E82869",
    "jupyter": {},
    "notebookId": "637d66f053342897d9b9bf71",
    "runtime": {
     "execution_status": null,
     "is_visible": false,
     "status": "default"
    },
    "scrolled": false,
    "slideshow": {
     "slide_type": "slide"
    },
    "tags": [],
    "trusted": true
   },
   "source": [
    "### 1.1 数据读取"
   ]
  },
  {
   "cell_type": "markdown",
   "metadata": {
    "id": "591D7FAF1C5045C192FE27FAC3CCAA9A",
    "jupyter": {},
    "notebookId": "637d66f053342897d9b9bf71",
    "runtime": {
     "execution_status": null,
     "is_visible": false,
     "status": "default"
    },
    "scrolled": false,
    "slideshow": {
     "slide_type": "slide"
    },
    "tags": [],
    "trusted": true
   },
   "source": [
    "读取数据，并保留用户特征、作品特征和是否点赞，删除其余无效字段如channel，finish， H、date（real_time中包括）"
   ]
  },
  {
   "cell_type": "code",
   "execution_count": 2,
   "metadata": {
    "collapsed": false,
    "id": "939B24A2C88A464E8A8A338AF41E65FA",
    "jupyter": {},
    "notebookId": "637d66f053342897d9b9bf71",
    "scrolled": false,
    "slideshow": {
     "slide_type": "slide"
    },
    "tags": [],
    "trusted": true
   },
   "outputs": [
    {
     "data": {
      "text/html": [
       "<div>\n",
       "<style scoped>\n",
       "    .dataframe tbody tr th:only-of-type {\n",
       "        vertical-align: middle;\n",
       "    }\n",
       "\n",
       "    .dataframe tbody tr th {\n",
       "        vertical-align: top;\n",
       "    }\n",
       "\n",
       "    .dataframe thead th {\n",
       "        text-align: right;\n",
       "    }\n",
       "</style>\n",
       "<table border=\"1\" class=\"dataframe\">\n",
       "  <thead>\n",
       "    <tr style=\"text-align: right;\">\n",
       "      <th></th>\n",
       "      <th>uid</th>\n",
       "      <th>user_city</th>\n",
       "      <th>item_id</th>\n",
       "      <th>author_id</th>\n",
       "      <th>item_city</th>\n",
       "      <th>like</th>\n",
       "      <th>music_id</th>\n",
       "      <th>duration_time</th>\n",
       "      <th>real_time</th>\n",
       "    </tr>\n",
       "  </thead>\n",
       "  <tbody>\n",
       "    <tr>\n",
       "      <th>0</th>\n",
       "      <td>15692</td>\n",
       "      <td>109.0</td>\n",
       "      <td>691661</td>\n",
       "      <td>18212</td>\n",
       "      <td>213.0</td>\n",
       "      <td>0</td>\n",
       "      <td>11513.0</td>\n",
       "      <td>10</td>\n",
       "      <td>2019-10-28 21:55:10</td>\n",
       "    </tr>\n",
       "    <tr>\n",
       "      <th>1</th>\n",
       "      <td>44071</td>\n",
       "      <td>80.0</td>\n",
       "      <td>1243212</td>\n",
       "      <td>34500</td>\n",
       "      <td>68.0</td>\n",
       "      <td>0</td>\n",
       "      <td>1274.0</td>\n",
       "      <td>9</td>\n",
       "      <td>2019-10-21 22:27:03</td>\n",
       "    </tr>\n",
       "    <tr>\n",
       "      <th>2</th>\n",
       "      <td>10902</td>\n",
       "      <td>202.0</td>\n",
       "      <td>3845855</td>\n",
       "      <td>634066</td>\n",
       "      <td>113.0</td>\n",
       "      <td>0</td>\n",
       "      <td>762.0</td>\n",
       "      <td>10</td>\n",
       "      <td>2019-10-26 00:38:51</td>\n",
       "    </tr>\n",
       "    <tr>\n",
       "      <th>3</th>\n",
       "      <td>25300</td>\n",
       "      <td>21.0</td>\n",
       "      <td>3929579</td>\n",
       "      <td>214923</td>\n",
       "      <td>330.0</td>\n",
       "      <td>0</td>\n",
       "      <td>2332.0</td>\n",
       "      <td>15</td>\n",
       "      <td>2019-10-25 20:36:25</td>\n",
       "    </tr>\n",
       "    <tr>\n",
       "      <th>4</th>\n",
       "      <td>3656</td>\n",
       "      <td>138.0</td>\n",
       "      <td>2572269</td>\n",
       "      <td>182680</td>\n",
       "      <td>80.0</td>\n",
       "      <td>0</td>\n",
       "      <td>238.0</td>\n",
       "      <td>9</td>\n",
       "      <td>2019-10-21 20:46:29</td>\n",
       "    </tr>\n",
       "  </tbody>\n",
       "</table>\n",
       "</div>"
      ],
      "text/plain": [
       "     uid  user_city  item_id  author_id  item_city  like  music_id  \\\n",
       "0  15692      109.0   691661      18212      213.0     0   11513.0   \n",
       "1  44071       80.0  1243212      34500       68.0     0    1274.0   \n",
       "2  10902      202.0  3845855     634066      113.0     0     762.0   \n",
       "3  25300       21.0  3929579     214923      330.0     0    2332.0   \n",
       "4   3656      138.0  2572269     182680       80.0     0     238.0   \n",
       "\n",
       "   duration_time            real_time  \n",
       "0             10  2019-10-28 21:55:10  \n",
       "1              9  2019-10-21 22:27:03  \n",
       "2             10  2019-10-26 00:38:51  \n",
       "3             15  2019-10-25 20:36:25  \n",
       "4              9  2019-10-21 20:46:29  "
      ]
     },
     "execution_count": 2,
     "metadata": {},
     "output_type": "execute_result"
    }
   ],
   "source": [
    "df = pd.read_csv('./douyin_dataset.csv')\n",
    "del df['Unnamed: 0'], df['H'], df['date'], df['finish'], df['channel']\n",
    "df.head()"
   ]
  },
  {
   "cell_type": "code",
   "execution_count": 3,
   "metadata": {},
   "outputs": [
    {
     "data": {
      "text/plain": [
       "1737312"
      ]
     },
     "execution_count": 3,
     "metadata": {},
     "output_type": "execute_result"
    }
   ],
   "source": [
    "len(df)"
   ]
  },
  {
   "cell_type": "markdown",
   "metadata": {
    "id": "4BF758C8C79F49A290BFBA44C10A20C5",
    "jupyter": {},
    "notebookId": "637d66f053342897d9b9bf71",
    "runtime": {
     "execution_status": null,
     "is_visible": false,
     "status": "default"
    },
    "scrolled": false,
    "slideshow": {
     "slide_type": "slide"
    },
    "tags": [],
    "trusted": true
   },
   "source": [
    "### 1.2 数据抽样处理"
   ]
  },
  {
   "cell_type": "markdown",
   "metadata": {
    "id": "EC5F60BC966345308AF16CAE8B6BE633",
    "jupyter": {},
    "notebookId": "637d66f053342897d9b9bf71",
    "runtime": {
     "execution_status": null,
     "is_visible": false,
     "status": "default"
    },
    "scrolled": false,
    "slideshow": {
     "slide_type": "slide"
    },
    "tags": [],
    "trusted": true
   },
   "source": [
    "为了减少训练成本，对数据集中的数据进行抽样训练  \n",
    "通过等距抽样获取部分浏览信息作为训练数据（需要同时保证点赞数据的合理比例）"
   ]
  },
  {
   "cell_type": "code",
   "execution_count": 4,
   "metadata": {
    "collapsed": false,
    "id": "C13FF830990B49D4BF9C2F435F0A229B",
    "jupyter": {},
    "notebookId": "637d66f053342897d9b9bf71",
    "scrolled": true,
    "slideshow": {
     "slide_type": "slide"
    },
    "tags": [],
    "trusted": true
   },
   "outputs": [
    {
     "name": "stdout",
     "output_type": "stream",
     "text": [
      "0.02524186789707318\n"
     ]
    }
   ],
   "source": [
    "df_like = df[df['like']==1]\n",
    "df_dislike = df[df['like']==0]\n",
    "data = pd.concat([df_like[::20], df_dislike[::40]], axis=0)\n",
    "print(len(data)/len(df))"
   ]
  },
  {
   "cell_type": "markdown",
   "metadata": {
    "id": "2D72ED68D098449DAF53CE3859C519D8",
    "jupyter": {},
    "notebookId": "637d66f053342897d9b9bf71",
    "runtime": {
     "execution_status": null,
     "is_visible": false,
     "status": "default"
    },
    "scrolled": false,
    "slideshow": {
     "slide_type": "slide"
    },
    "tags": [],
    "trusted": true
   },
   "source": [
    "### 1.3 时间数据处理"
   ]
  },
  {
   "cell_type": "markdown",
   "metadata": {
    "id": "FE9D8B5976A34203A7D55362145B46E1",
    "jupyter": {},
    "notebookId": "637d66f053342897d9b9bf71",
    "runtime": {
     "execution_status": null,
     "is_visible": false,
     "status": "default"
    },
    "scrolled": false,
    "slideshow": {
     "slide_type": "slide"
    },
    "tags": [],
    "trusted": true
   },
   "source": [
    "训练数据中的real_time字段包括的是字符串对象对应代表时间值，通过将其转化为与固定时间的差值(秒)来进行数值化"
   ]
  },
  {
   "cell_type": "code",
   "execution_count": 5,
   "metadata": {
    "collapsed": false,
    "id": "809398836C904097886209BB733E332E",
    "jupyter": {},
    "notebookId": "637d66f053342897d9b9bf71",
    "scrolled": false,
    "slideshow": {
     "slide_type": "slide"
    },
    "tags": [],
    "trusted": true
   },
   "outputs": [],
   "source": [
    "flag = pd.to_datetime('2019-01-01 00:00:00')\n",
    "data['real_time'] = pd.to_datetime(data['real_time'])\n",
    "data['real_time'] = pd.to_timedelta( data['real_time'] - flag).dt.total_seconds()"
   ]
  },
  {
   "cell_type": "code",
   "execution_count": 6,
   "metadata": {
    "collapsed": false,
    "id": "7624C37CFF3B4AFF9DDA4CF60A2AFB5B",
    "jupyter": {},
    "notebookId": "637d66f053342897d9b9bf71",
    "scrolled": false,
    "slideshow": {
     "slide_type": "slide"
    },
    "tags": [],
    "trusted": true
   },
   "outputs": [
    {
     "data": {
      "text/html": [
       "<div>\n",
       "<style scoped>\n",
       "    .dataframe tbody tr th:only-of-type {\n",
       "        vertical-align: middle;\n",
       "    }\n",
       "\n",
       "    .dataframe tbody tr th {\n",
       "        vertical-align: top;\n",
       "    }\n",
       "\n",
       "    .dataframe thead th {\n",
       "        text-align: right;\n",
       "    }\n",
       "</style>\n",
       "<table border=\"1\" class=\"dataframe\">\n",
       "  <thead>\n",
       "    <tr style=\"text-align: right;\">\n",
       "      <th></th>\n",
       "      <th>uid</th>\n",
       "      <th>user_city</th>\n",
       "      <th>item_id</th>\n",
       "      <th>author_id</th>\n",
       "      <th>item_city</th>\n",
       "      <th>like</th>\n",
       "      <th>music_id</th>\n",
       "      <th>duration_time</th>\n",
       "      <th>real_time</th>\n",
       "    </tr>\n",
       "  </thead>\n",
       "  <tbody>\n",
       "    <tr>\n",
       "      <th>134</th>\n",
       "      <td>32039</td>\n",
       "      <td>2.0</td>\n",
       "      <td>1324665</td>\n",
       "      <td>48937</td>\n",
       "      <td>15.0</td>\n",
       "      <td>1</td>\n",
       "      <td>578.0</td>\n",
       "      <td>10</td>\n",
       "      <td>24181411.0</td>\n",
       "    </tr>\n",
       "    <tr>\n",
       "      <th>2181</th>\n",
       "      <td>14571</td>\n",
       "      <td>142.0</td>\n",
       "      <td>2489542</td>\n",
       "      <td>37131</td>\n",
       "      <td>229.0</td>\n",
       "      <td>1</td>\n",
       "      <td>1318.0</td>\n",
       "      <td>7</td>\n",
       "      <td>25305835.0</td>\n",
       "    </tr>\n",
       "    <tr>\n",
       "      <th>3955</th>\n",
       "      <td>25090</td>\n",
       "      <td>136.0</td>\n",
       "      <td>1582882</td>\n",
       "      <td>16382</td>\n",
       "      <td>69.0</td>\n",
       "      <td>1</td>\n",
       "      <td>680.0</td>\n",
       "      <td>10</td>\n",
       "      <td>23180382.0</td>\n",
       "    </tr>\n",
       "    <tr>\n",
       "      <th>5685</th>\n",
       "      <td>11153</td>\n",
       "      <td>73.0</td>\n",
       "      <td>209250</td>\n",
       "      <td>28248</td>\n",
       "      <td>137.0</td>\n",
       "      <td>1</td>\n",
       "      <td>4545.0</td>\n",
       "      <td>9</td>\n",
       "      <td>24856880.0</td>\n",
       "    </tr>\n",
       "    <tr>\n",
       "      <th>8647</th>\n",
       "      <td>2159</td>\n",
       "      <td>106.0</td>\n",
       "      <td>1019916</td>\n",
       "      <td>246</td>\n",
       "      <td>18.0</td>\n",
       "      <td>1</td>\n",
       "      <td>3928.0</td>\n",
       "      <td>9</td>\n",
       "      <td>25677638.0</td>\n",
       "    </tr>\n",
       "  </tbody>\n",
       "</table>\n",
       "</div>"
      ],
      "text/plain": [
       "        uid  user_city  item_id  author_id  item_city  like  music_id  \\\n",
       "134   32039        2.0  1324665      48937       15.0     1     578.0   \n",
       "2181  14571      142.0  2489542      37131      229.0     1    1318.0   \n",
       "3955  25090      136.0  1582882      16382       69.0     1     680.0   \n",
       "5685  11153       73.0   209250      28248      137.0     1    4545.0   \n",
       "8647   2159      106.0  1019916        246       18.0     1    3928.0   \n",
       "\n",
       "      duration_time   real_time  \n",
       "134              10  24181411.0  \n",
       "2181              7  25305835.0  \n",
       "3955             10  23180382.0  \n",
       "5685              9  24856880.0  \n",
       "8647              9  25677638.0  "
      ]
     },
     "execution_count": 6,
     "metadata": {},
     "output_type": "execute_result"
    }
   ],
   "source": [
    "data.head()"
   ]
  },
  {
   "cell_type": "markdown",
   "metadata": {
    "id": "88690A941F2D469C995FE042251BC09C",
    "jupyter": {},
    "notebookId": "637d66f053342897d9b9bf71",
    "runtime": {
     "execution_status": null,
     "is_visible": false,
     "status": "default"
    },
    "scrolled": false,
    "slideshow": {
     "slide_type": "slide"
    },
    "tags": [],
    "trusted": true
   },
   "source": [
    "### 1.4 数据集划分"
   ]
  },
  {
   "cell_type": "code",
   "execution_count": 6,
   "metadata": {
    "collapsed": false,
    "id": "50599D6337B7440A90BAFF773DBC3D36",
    "jupyter": {},
    "notebookId": "637d66f053342897d9b9bf71",
    "scrolled": false,
    "slideshow": {
     "slide_type": "slide"
    },
    "tags": [],
    "trusted": true
   },
   "outputs": [],
   "source": [
    "xtrain,xtest, ytrain, ytest = \\\n",
    "    train_test_split(\n",
    "        data.drop('like', axis=1), # X\n",
    "        data['like'], # Y\n",
    "        test_size=0.3,\n",
    "        random_state=0 # random_seed\n",
    "    )"
   ]
  },
  {
   "cell_type": "markdown",
   "metadata": {
    "id": "E7FFEC5313E347289DA2B5F0C8A3EA1E",
    "jupyter": {},
    "notebookId": "637d66f053342897d9b9bf71",
    "runtime": {
     "execution_status": null,
     "is_visible": false,
     "status": "default"
    },
    "scrolled": false,
    "slideshow": {
     "slide_type": "slide"
    },
    "tags": [],
    "trusted": true
   },
   "source": [
    "## 2. 模型预训练"
   ]
  },
  {
   "cell_type": "markdown",
   "metadata": {
    "id": "86733103C61E47BABFE790E9C2E7C2C9",
    "jupyter": {},
    "notebookId": "637d66f053342897d9b9bf71",
    "runtime": {
     "execution_status": null,
     "is_visible": false,
     "status": "default"
    },
    "scrolled": false,
    "slideshow": {
     "slide_type": "slide"
    },
    "tags": [],
    "trusted": true
   },
   "source": [
    "### 2.1 模型训练函数"
   ]
  },
  {
   "cell_type": "code",
   "execution_count": 7,
   "metadata": {
    "collapsed": false,
    "id": "2673A350690F4A65831C2EEE211399E5",
    "jupyter": {},
    "notebookId": "637d66f053342897d9b9bf71",
    "scrolled": false,
    "slideshow": {
     "slide_type": "slide"
    },
    "tags": [],
    "trusted": true
   },
   "outputs": [],
   "source": [
    "def train(name, model):\n",
    "    model = model.fit(xtrain, ytrain)\n",
    "    print(f'{name}准确率: \\t{model.score(xtest, ytest)}')\n",
    "    return model"
   ]
  },
  {
   "cell_type": "markdown",
   "metadata": {
    "id": "E84057BA4651462FA3B3CADA2CA92879",
    "jupyter": {},
    "notebookId": "637d66f053342897d9b9bf71",
    "runtime": {
     "execution_status": null,
     "is_visible": false,
     "status": "default"
    },
    "scrolled": false,
    "slideshow": {
     "slide_type": "slide"
    },
    "tags": [],
    "trusted": true
   },
   "source": [
    "### 2.2 模型训练"
   ]
  },
  {
   "cell_type": "code",
   "execution_count": 8,
   "metadata": {
    "collapsed": false,
    "id": "533602AA89214A438E5DC28531E5960F",
    "jupyter": {},
    "notebookId": "637d66f053342897d9b9bf71",
    "scrolled": false,
    "slideshow": {
     "slide_type": "slide"
    },
    "tags": [],
    "trusted": true
   },
   "outputs": [
    {
     "name": "stdout",
     "output_type": "stream",
     "text": [
      "lgs准确率: \t0.9805411979325023\n",
      "gnb准确率: \t0.9801611432046214\n",
      "clf准确率: \t0.9601702645180906\n",
      "rfc准确率: \t0.9805411979325023\n"
     ]
    }
   ],
   "source": [
    "# 逻辑回归\n",
    "lgs = train('lgs', LogisticRegression(solver='liblinear', C=100.0,random_state=1))\n",
    "# 朴素贝叶斯\n",
    "gnb = train('gnb', GaussianNB().fit(xtrain,ytrain))\n",
    "# 单棵决策树\n",
    "clf = train('clf', DecisionTreeClassifier(class_weight='balanced',random_state=0))\n",
    "# 随机森林\n",
    "rfc = train('rfc', RandomForestClassifier(n_estimators=100, class_weight='balanced',random_state=0))"
   ]
  },
  {
   "cell_type": "markdown",
   "metadata": {
    "id": "94EBA309B4814A3BA6BA1A58B6A6F704",
    "jupyter": {},
    "notebookId": "637d66f053342897d9b9bf71",
    "runtime": {
     "execution_status": null,
     "is_visible": false,
     "status": "default"
    },
    "scrolled": false,
    "slideshow": {
     "slide_type": "slide"
    },
    "tags": [],
    "trusted": true
   },
   "source": [
    "### 2.3 模型ROC曲线及AUC值"
   ]
  },
  {
   "cell_type": "markdown",
   "metadata": {},
   "source": [
    "AUC曲线指的是ROC曲线(Receiver Operating Characteristic curve)下的面积(Area Under the Curve)。"
   ]
  },
  {
   "cell_type": "code",
   "execution_count": 9,
   "metadata": {
    "collapsed": false,
    "id": "5C6083AF91424248BEE96CA167A631F0",
    "jupyter": {},
    "notebookId": "637d66f053342897d9b9bf71",
    "scrolled": false,
    "slideshow": {
     "slide_type": "slide"
    },
    "tags": [],
    "trusted": true
   },
   "outputs": [],
   "source": [
    "def my_auc(model):\n",
    "    y_test_proba = model.predict_proba(xtest)\n",
    "    false_positive_rate, recall, thresholds = roc_curve(ytest, y_test_proba[:, 1])\n",
    "    roc_auc = auc(false_positive_rate, recall)\n",
    "    return false_positive_rate, recall, roc_auc"
   ]
  },
  {
   "cell_type": "code",
   "execution_count": 10,
   "metadata": {
    "collapsed": false,
    "id": "2878E9FB342D4E3AA3CA26D560C5400F",
    "jupyter": {},
    "notebookId": "637d66f053342897d9b9bf71",
    "scrolled": false,
    "slideshow": {
     "slide_type": "slide"
    },
    "tags": [],
    "trusted": true
   },
   "outputs": [],
   "source": [
    "lgs_auc = my_auc(lgs)\n",
    "gnb_auc = my_auc(gnb)\n",
    "clf_auc = my_auc(clf)\n",
    "rfc_auc = my_auc(rfc)"
   ]
  },
  {
   "cell_type": "code",
   "execution_count": 11,
   "metadata": {
    "collapsed": false,
    "id": "816AF828AE094B5286169DF89C5A656C",
    "jupyter": {},
    "notebookId": "637d66f053342897d9b9bf71",
    "scrolled": false,
    "slideshow": {
     "slide_type": "slide"
    },
    "tags": [],
    "trusted": true
   },
   "outputs": [
    {
     "data": {
      "image/png": "[encoded data removed]",
      "text/plain": [
       "<Figure size 720x480 with 1 Axes>"
      ]
     },
     "metadata": {},
     "output_type": "display_data"
    }
   ],
   "source": [
    "# 画图 画出俩模型的ROC曲线\n",
    "plt.figure(figsize=(6,4),dpi=120)\n",
    "plt.plot(lgs_auc[0], lgs_auc[1], color='cyan', label='AUC_lgs=%0.3f' % lgs_auc[2])\n",
    "plt.plot(gnb_auc[0], gnb_auc[1], color='blue', label='AUC_gnb=%0.3f' % gnb_auc[2])\n",
    "plt.plot(clf_auc[0], clf_auc[1], color='green', label='AUC_clf=%0.3f' % clf_auc[2])\n",
    "plt.plot(rfc_auc[0], rfc_auc[1], color='yellow', label='AUC_rfc=%0.3f' % rfc_auc[2])\n",
    "plt.legend(loc='best', fontsize=12, frameon=False)\n",
    "plt.plot([0, 1], [0, 1], 'r--')\n",
    "plt.xlim([0.0, 1.0])\n",
    "plt.ylim([0.0, 1.0])\n",
    "plt.ylabel('Recall')\n",
    "plt.xlabel('Fall-out')\n",
    "plt.show()"
   ]
  },
  {
   "cell_type": "markdown",
   "metadata": {
    "id": "027167F1D1B1461B969655A977C83402",
    "jupyter": {},
    "notebookId": "637d66f053342897d9b9bf71",
    "runtime": {
     "execution_status": null,
     "is_visible": false,
     "status": "default"
    },
    "scrolled": false,
    "slideshow": {
     "slide_type": "slide"
    },
    "tags": [],
    "trusted": true
   },
   "source": [
    "相对来说随机森林的效果比较好，所以选择随机森林作为二分类baseline模型"
   ]
  },
  {
   "cell_type": "markdown",
   "metadata": {
    "id": "DB119AFB5DFB44AF8DD642ED6412F761",
    "jupyter": {},
    "notebookId": "637d66f053342897d9b9bf71",
    "runtime": {
     "execution_status": null,
     "is_visible": false,
     "status": "default"
    },
    "scrolled": false,
    "slideshow": {
     "slide_type": "slide"
    },
    "tags": [],
    "trusted": true
   },
   "source": [
    "## 3. 模型优化"
   ]
  },
  {
   "cell_type": "markdown",
   "metadata": {
    "id": "A708F544801D4103A932F2626B4024B1",
    "jupyter": {},
    "notebookId": "637d66f053342897d9b9bf71",
    "runtime": {
     "execution_status": null,
     "is_visible": false,
     "status": "default"
    },
    "scrolled": false,
    "slideshow": {
     "slide_type": "slide"
    },
    "tags": [],
    "trusted": true
   },
   "source": [
    "使用GridSearchCV模块进行格栅优化，每一个训练参数作为表格的一个维度，根据传入值，遍历格栅中每一种参数组合。\n",
    "一般来说直接把多个模型参数输入即可，但是多个维度参数的组合会导致训练模型量剧增。\n",
    "这里遍历了9个n_e值和10个max_f值，加上cv=3需要三折交叉，就产生了9x10x3=270次训练。因此，采用解耦的方式，把两个参数分离优化来减少训练量，达到相对较好但不是最优的效果，"
   ]
  },
  {
   "cell_type": "code",
   "execution_count": 12,
   "metadata": {
    "collapsed": false,
    "hide_input": true,
    "id": "44F66E143F7B412B8EEF0BD357C58107",
    "jupyter": {},
    "notebookId": "637d66f053342897d9b9bf71",
    "scrolled": false,
    "slideshow": {
     "slide_type": "slide"
    },
    "tags": [],
    "trusted": true
   },
   "outputs": [],
   "source": [
    "## 需要270次的最优方法\n",
    "# params = {\n",
    "#     'n_estimators': [x for x in range(100,1000,100)], \n",
    "#     'max_features': range(1,20,2)\n",
    "# }\n",
    "# grid = GridSearchCV(\n",
    "#     RandomForestClassifier(class_weight='balanced', random_state=0),\n",
    "#     params, scoring=\"roc_auc\",\n",
    "#     cv=3, verbose=1, n_jobs=-1\n",
    "# ).fit(xtrain, ytrain)"
   ]
  },
  {
   "cell_type": "markdown",
   "metadata": {
    "id": "CB0771CDCE9A436D8085C68E1621CAA2",
    "jupyter": {},
    "notebookId": "637d66f053342897d9b9bf71",
    "runtime": {
     "execution_status": null,
     "is_visible": false,
     "status": "default"
    },
    "scrolled": false,
    "slideshow": {
     "slide_type": "slide"
    },
    "tags": [],
    "trusted": true
   },
   "source": [
    "### 3.1 n_e优化"
   ]
  },
  {
   "cell_type": "code",
   "execution_count": 12,
   "metadata": {
    "collapsed": false,
    "id": "4753A40F60D7402E81C70E222425F63B",
    "jupyter": {},
    "notebookId": "637d66f053342897d9b9bf71",
    "scrolled": false,
    "slideshow": {
     "slide_type": "slide"
    },
    "tags": [],
    "trusted": true
   },
   "outputs": [
    {
     "name": "stdout",
     "output_type": "stream",
     "text": [
      "Fitting 3 folds for each of 14 candidates, totalling 42 fits\n"
     ]
    }
   ],
   "source": [
    "params = {\n",
    "    'n_estimators': [x for x in range(100,1500,100)]\n",
    "}\n",
    "grid = GridSearchCV(\n",
    "    RandomForestClassifier(class_weight='balanced', random_state=0),\n",
    "    params, scoring=\"roc_auc\",\n",
    "    cv=3, verbose=1, n_jobs=-1\n",
    ").fit(xtrain, ytrain)"
   ]
  },
  {
   "cell_type": "code",
   "execution_count": 13,
   "metadata": {
    "collapsed": false,
    "id": "93B89F27B0234657872EDD6878AB4BF1",
    "jupyter": {},
    "notebookId": "637d66f053342897d9b9bf71",
    "scrolled": false,
    "slideshow": {
     "slide_type": "slide"
    },
    "tags": [],
    "trusted": true
   },
   "outputs": [
    {
     "data": {
      "image/png": "[encoded data removed]",
      "text/plain": [
       "<Figure size 720x480 with 1 Axes>"
      ]
     },
     "metadata": {},
     "output_type": "display_data"
    }
   ],
   "source": [
    "a = grid.cv_results_['mean_test_score']\n",
    "plt.figure(figsize=(6,4),dpi=120)\n",
    "plt.plot(params['n_estimators'], a, color='blue')\n",
    "plt.show()"
   ]
  },
  {
   "cell_type": "code",
   "execution_count": 14,
   "metadata": {
    "collapsed": false,
    "id": "4DB9E67CE12C4F808149497A0610AB29",
    "jupyter": {},
    "notebookId": "637d66f053342897d9b9bf71",
    "scrolled": false,
    "slideshow": {
     "slide_type": "slide"
    },
    "tags": [],
    "trusted": true
   },
   "outputs": [
    {
     "data": {
      "text/plain": [
       "{'n_estimators': 1400}"
      ]
     },
     "execution_count": 14,
     "metadata": {},
     "output_type": "execute_result"
    }
   ],
   "source": [
    "grid.best_params_"
   ]
  },
  {
   "cell_type": "markdown",
   "metadata": {
    "id": "CDD32793FA7C498884F58077E7453DFB",
    "jupyter": {},
    "notebookId": "637d66f053342897d9b9bf71",
    "runtime": {
     "execution_status": null,
     "is_visible": false,
     "status": "default"
    },
    "scrolled": false,
    "slideshow": {
     "slide_type": "slide"
    },
    "tags": [],
    "trusted": true
   },
   "source": [
    "选择参数为1000"
   ]
  },
  {
   "cell_type": "markdown",
   "metadata": {
    "id": "9332BD070A7C4F648128139A54D58437",
    "jupyter": {},
    "notebookId": "637d66f053342897d9b9bf71",
    "runtime": {
     "execution_status": null,
     "is_visible": false,
     "status": "default"
    },
    "scrolled": false,
    "slideshow": {
     "slide_type": "slide"
    },
    "tags": [],
    "trusted": true
   },
   "source": [
    "### 3.2 max_f优化"
   ]
  },
  {
   "cell_type": "code",
   "execution_count": 15,
   "metadata": {
    "collapsed": false,
    "id": "16BDB4982B034DC0918657F6DFA75073",
    "jupyter": {},
    "notebookId": "637d66f053342897d9b9bf71",
    "scrolled": false,
    "slideshow": {
     "slide_type": "slide"
    },
    "tags": [],
    "trusted": true
   },
   "outputs": [
    {
     "name": "stdout",
     "output_type": "stream",
     "text": [
      "Fitting 3 folds for each of 4 candidates, totalling 12 fits\n"
     ]
    }
   ],
   "source": [
    "params = {\n",
    "    'max_features': range(2,10,2)\n",
    "}\n",
    "grid = GridSearchCV(\n",
    "    RandomForestClassifier(n_estimators=1000, class_weight='balanced', random_state=0),\n",
    "    params, scoring=\"roc_auc\",\n",
    "    cv=3, verbose=1, n_jobs=-1\n",
    ").fit(xtrain, ytrain)"
   ]
  },
  {
   "cell_type": "code",
   "execution_count": 16,
   "metadata": {
    "collapsed": false,
    "id": "DA61151C0DAB44158554AFF93BFBEC69",
    "jupyter": {},
    "notebookId": "637d66f053342897d9b9bf71",
    "scrolled": false,
    "slideshow": {
     "slide_type": "slide"
    },
    "tags": [],
    "trusted": true
   },
   "outputs": [
    {
     "data": {
      "image/png": "[encoded data removed]",
      "text/plain": [
       "<Figure size 720x480 with 1 Axes>"
      ]
     },
     "metadata": {},
     "output_type": "display_data"
    }
   ],
   "source": [
    "a = grid.cv_results_['mean_test_score']\n",
    "plt.figure(figsize=(6,4),dpi=120)\n",
    "plt.plot(params['max_features'], a, color='blue')\n",
    "plt.show()"
   ]
  },
  {
   "cell_type": "code",
   "execution_count": 17,
   "metadata": {
    "collapsed": false,
    "id": "C939A2CDC30A45028F6748DADFDB68C3",
    "jupyter": {},
    "notebookId": "637d66f053342897d9b9bf71",
    "scrolled": false,
    "slideshow": {
     "slide_type": "slide"
    },
    "tags": [],
    "trusted": true
   },
   "outputs": [
    {
     "data": {
      "text/plain": [
       "{'max_features': 6}"
      ]
     },
     "execution_count": 17,
     "metadata": {},
     "output_type": "execute_result"
    }
   ],
   "source": [
    "grid.best_params_"
   ]
  },
  {
   "cell_type": "markdown",
   "metadata": {
    "id": "08A9504C0ACD46688F775BEC19B0B422",
    "jupyter": {},
    "notebookId": "637d66f053342897d9b9bf71",
    "runtime": {
     "execution_status": null,
     "is_visible": false,
     "status": "default"
    },
    "scrolled": false,
    "slideshow": {
     "slide_type": "slide"
    },
    "tags": [],
    "trusted": true
   },
   "source": [
    "### 3.3 模型训练"
   ]
  },
  {
   "cell_type": "code",
   "execution_count": 18,
   "metadata": {
    "collapsed": false,
    "id": "48D9697301F8497A86B366C418D35764",
    "jupyter": {},
    "notebookId": "637d66f053342897d9b9bf71",
    "scrolled": false,
    "slideshow": {
     "slide_type": "slide"
    },
    "tags": [],
    "trusted": true
   },
   "outputs": [
    {
     "name": "stdout",
     "output_type": "stream",
     "text": [
      "rfc++准确率: \t0.9805411979325023\n"
     ]
    }
   ],
   "source": [
    "rfc0 = RandomForestClassifier(n_estimators=1000,\n",
    "                             max_features=6,\n",
    "                             class_weight='balanced',\n",
    "                             random_state=0)\n",
    "rfc0 = train('rfc++', rfc0)"
   ]
  },
  {
   "cell_type": "code",
   "execution_count": 19,
   "metadata": {
    "collapsed": false,
    "id": "B45BBB3E4D5644BF8D7ACA98AE2AB9D2",
    "jupyter": {},
    "notebookId": "637d66f053342897d9b9bf71",
    "scrolled": false,
    "slideshow": {
     "slide_type": "slide"
    },
    "tags": [],
    "trusted": true
   },
   "outputs": [
    {
     "data": {
      "image/png": "[encoded data removed]",
      "text/plain": [
       "<Figure size 720x480 with 1 Axes>"
      ]
     },
     "metadata": {},
     "output_type": "display_data"
    }
   ],
   "source": [
    "auc_rfc0 = my_auc(rfc0)\n",
    "# 画图 画出俩模型的ROC曲线\n",
    "plt.figure(figsize=(6,4),dpi=120)\n",
    "plt.plot(auc_rfc0[0], auc_rfc0[1], color='cyan', label='rfc++=%0.3f' % auc_rfc0[2])\n",
    "plt.plot(rfc_auc[0], rfc_auc[1], color='yellow', label='rfc=%0.3f' % rfc_auc[2])\n",
    "plt.legend(loc='best', fontsize=12, frameon=False)\n",
    "plt.plot([0, 1], [0, 1], 'r--')\n",
    "plt.xlim([0.0, 1.0])\n",
    "plt.ylim([0.0, 1.0])\n",
    "plt.ylabel('Recall')\n",
    "plt.xlabel('Fall-out')\n",
    "plt.show()"
   ]
  },
  {
   "cell_type": "markdown",
   "metadata": {
    "id": "5B1BD616285E448B9D7509406A2CDBFD",
    "jupyter": {},
    "notebookId": "637d66f053342897d9b9bf71",
    "runtime": {
     "execution_status": null,
     "is_visible": false,
     "status": "default"
    },
    "scrolled": false,
    "slideshow": {
     "slide_type": "slide"
    },
    "tags": [],
    "trusted": true
   },
   "source": [
    "## 4. 模型预测"
   ]
  },
  {
   "cell_type": "markdown",
   "metadata": {
    "id": "A6B163507D954865A206E4924CD0C055",
    "jupyter": {},
    "notebookId": "637d66f053342897d9b9bf71",
    "runtime": {
     "execution_status": null,
     "is_visible": false,
     "status": "default"
    },
    "scrolled": false,
    "slideshow": {
     "slide_type": "slide"
    },
    "tags": [],
    "trusted": true
   },
   "source": [
    "### 4.1 模型准确率"
   ]
  },
  {
   "cell_type": "code",
   "execution_count": 20,
   "metadata": {
    "collapsed": false,
    "id": "E172B0DAE9FE45DFB2F73963C1E6A07D",
    "jupyter": {},
    "notebookId": "637d66f053342897d9b9bf71",
    "scrolled": false,
    "slideshow": {
     "slide_type": "slide"
    },
    "tags": [],
    "trusted": true
   },
   "outputs": [
    {
     "data": {
      "text/html": [
       "<div>\n",
       "<style scoped>\n",
       "    .dataframe tbody tr th:only-of-type {\n",
       "        vertical-align: middle;\n",
       "    }\n",
       "\n",
       "    .dataframe tbody tr th {\n",
       "        vertical-align: top;\n",
       "    }\n",
       "\n",
       "    .dataframe thead th {\n",
       "        text-align: right;\n",
       "    }\n",
       "</style>\n",
       "<table border=\"1\" class=\"dataframe\">\n",
       "  <thead>\n",
       "    <tr style=\"text-align: right;\">\n",
       "      <th></th>\n",
       "      <th>uid</th>\n",
       "      <th>user_city</th>\n",
       "      <th>item_id</th>\n",
       "      <th>author_id</th>\n",
       "      <th>item_city</th>\n",
       "      <th>like</th>\n",
       "      <th>music_id</th>\n",
       "      <th>duration_time</th>\n",
       "      <th>real_time</th>\n",
       "    </tr>\n",
       "  </thead>\n",
       "  <tbody>\n",
       "    <tr>\n",
       "      <th>0</th>\n",
       "      <td>15692</td>\n",
       "      <td>109.0</td>\n",
       "      <td>691661</td>\n",
       "      <td>18212</td>\n",
       "      <td>213.0</td>\n",
       "      <td>0</td>\n",
       "      <td>11513.0</td>\n",
       "      <td>10</td>\n",
       "      <td>2019-10-28 21:55:10</td>\n",
       "    </tr>\n",
       "    <tr>\n",
       "      <th>1</th>\n",
       "      <td>44071</td>\n",
       "      <td>80.0</td>\n",
       "      <td>1243212</td>\n",
       "      <td>34500</td>\n",
       "      <td>68.0</td>\n",
       "      <td>0</td>\n",
       "      <td>1274.0</td>\n",
       "      <td>9</td>\n",
       "      <td>2019-10-21 22:27:03</td>\n",
       "    </tr>\n",
       "    <tr>\n",
       "      <th>2</th>\n",
       "      <td>10902</td>\n",
       "      <td>202.0</td>\n",
       "      <td>3845855</td>\n",
       "      <td>634066</td>\n",
       "      <td>113.0</td>\n",
       "      <td>0</td>\n",
       "      <td>762.0</td>\n",
       "      <td>10</td>\n",
       "      <td>2019-10-26 00:38:51</td>\n",
       "    </tr>\n",
       "    <tr>\n",
       "      <th>3</th>\n",
       "      <td>25300</td>\n",
       "      <td>21.0</td>\n",
       "      <td>3929579</td>\n",
       "      <td>214923</td>\n",
       "      <td>330.0</td>\n",
       "      <td>0</td>\n",
       "      <td>2332.0</td>\n",
       "      <td>15</td>\n",
       "      <td>2019-10-25 20:36:25</td>\n",
       "    </tr>\n",
       "    <tr>\n",
       "      <th>4</th>\n",
       "      <td>3656</td>\n",
       "      <td>138.0</td>\n",
       "      <td>2572269</td>\n",
       "      <td>182680</td>\n",
       "      <td>80.0</td>\n",
       "      <td>0</td>\n",
       "      <td>238.0</td>\n",
       "      <td>9</td>\n",
       "      <td>2019-10-21 20:46:29</td>\n",
       "    </tr>\n",
       "  </tbody>\n",
       "</table>\n",
       "</div>"
      ],
      "text/plain": [
       "     uid  user_city  item_id  author_id  item_city  like  music_id  \\\n",
       "0  15692      109.0   691661      18212      213.0     0   11513.0   \n",
       "1  44071       80.0  1243212      34500       68.0     0    1274.0   \n",
       "2  10902      202.0  3845855     634066      113.0     0     762.0   \n",
       "3  25300       21.0  3929579     214923      330.0     0    2332.0   \n",
       "4   3656      138.0  2572269     182680       80.0     0     238.0   \n",
       "\n",
       "   duration_time            real_time  \n",
       "0             10  2019-10-28 21:55:10  \n",
       "1              9  2019-10-21 22:27:03  \n",
       "2             10  2019-10-26 00:38:51  \n",
       "3             15  2019-10-25 20:36:25  \n",
       "4              9  2019-10-21 20:46:29  "
      ]
     },
     "execution_count": 20,
     "metadata": {},
     "output_type": "execute_result"
    }
   ],
   "source": [
    "df.head()"
   ]
  },
  {
   "cell_type": "code",
   "execution_count": 20,
   "metadata": {
    "collapsed": false,
    "id": "93AD970F675346AE8F03C2797DBEC5EF",
    "jupyter": {},
    "notebookId": "637d66f053342897d9b9bf71",
    "scrolled": false,
    "slideshow": {
     "slide_type": "slide"
    },
    "tags": [],
    "trusted": true
   },
   "outputs": [],
   "source": [
    "flag = pd.to_datetime('2019-01-01 00:00:00')\n",
    "df['real_time'] = pd.to_datetime(df['real_time'])\n",
    "df['real_time'] = pd.to_timedelta( df['real_time'] - flag).dt.total_seconds()"
   ]
  },
  {
   "cell_type": "code",
   "execution_count": 21,
   "metadata": {
    "collapsed": false,
    "id": "0B283C4E6424465BAC87B7F8A89E6370",
    "jupyter": {},
    "notebookId": "637d66f053342897d9b9bf71",
    "scrolled": false,
    "slideshow": {
     "slide_type": "slide"
    },
    "tags": [],
    "trusted": true
   },
   "outputs": [
    {
     "data": {
      "text/plain": [
       "0.9906522259674716"
      ]
     },
     "execution_count": 21,
     "metadata": {},
     "output_type": "execute_result"
    }
   ],
   "source": [
    "rfc0.score(df.drop('like', axis=1), df['like'])"
   ]
  },
  {
   "cell_type": "markdown",
   "metadata": {
    "id": "204D117061E84EA386685727E67DC8C0",
    "jupyter": {},
    "notebookId": "637d66f053342897d9b9bf71",
    "runtime": {
     "execution_status": null,
     "is_visible": false,
     "status": "default"
    },
    "scrolled": false,
    "slideshow": {
     "slide_type": "slide"
    },
    "tags": [],
    "trusted": true
   },
   "source": [
    "### 4.2 一些说明"
   ]
  },
  {
   "cell_type": "markdown",
   "metadata": {
    "id": "ADAACBD0240D453A878497069DA7CC85",
    "jupyter": {},
    "notebookId": "637d66f053342897d9b9bf71",
    "runtime": {
     "execution_status": null,
     "is_visible": false,
     "status": "default"
    },
    "scrolled": false,
    "slideshow": {
     "slide_type": "slide"
    },
    "tags": [],
    "trusted": true
   },
   "source": [
    "表面上来看准确率是比较高的，但是由于斜偏类，不点赞的数据占比极高"
   ]
  },
  {
   "cell_type": "code",
   "execution_count": 22,
   "metadata": {
    "collapsed": false,
    "id": "36550279E73540D49F010DA7C789D5CD",
    "jupyter": {},
    "notebookId": "637d66f053342897d9b9bf71",
    "scrolled": true,
    "slideshow": {
     "slide_type": "slide"
    },
    "tags": [],
    "trusted": true
   },
   "outputs": [
    {
     "data": {
      "text/plain": [
       "like\n",
       "0    1720539\n",
       "1      16773\n",
       "Name: count, dtype: int64"
      ]
     },
     "execution_count": 22,
     "metadata": {},
     "output_type": "execute_result"
    }
   ],
   "source": [
    "lk = df['like'].value_counts()\n",
    "lk"
   ]
  },
  {
   "cell_type": "code",
   "execution_count": 23,
   "metadata": {
    "collapsed": false,
    "id": "9B0E4887948C412C902E4A9F8CDCB2A3",
    "jupyter": {},
    "notebookId": "637d66f053342897d9b9bf71",
    "scrolled": false,
    "slideshow": {
     "slide_type": "slide"
    },
    "tags": [],
    "trusted": true
   },
   "outputs": [
    {
     "data": {
      "text/plain": [
       "0.9903454301817981"
      ]
     },
     "execution_count": 23,
     "metadata": {},
     "output_type": "execute_result"
    }
   ],
   "source": [
    "lk[0]/lk.sum()"
   ]
  }
 ],
 "metadata": {
  "kernelspec": {
   "display_name": "test_env",
   "language": "python",
   "name": "python3"
  },
  "language_info": {
   "codemirror_mode": {
    "name": "ipython",
    "version": 3
   },
   "file_extension": ".py",
   "mimetype": "text/x-python",
   "name": "python",
   "nbconvert_exporter": "python",
   "pygments_lexer": "ipython3",
   "version": "3.11.8"
  }
 },
 "nbformat": 4,
 "nbformat_minor": 0
}
