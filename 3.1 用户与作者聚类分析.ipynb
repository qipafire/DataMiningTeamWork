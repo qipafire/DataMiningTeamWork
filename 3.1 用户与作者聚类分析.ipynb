{
 "cells": [
  {
   "cell_type": "markdown",
   "metadata": {
    "id": "9E85344A6434450B815D1B36BF1F8555",
    "jupyter": {},
    "mdEditEnable": false,
    "notebookId": "637cfca87b4e5f9b3d6c56de",
    "runtime": {
     "execution_status": null,
     "is_visible": false,
     "status": "default"
    },
    "scrolled": false,
    "slideshow": {
     "slide_type": "slide"
    },
    "tags": [],
    "trusted": true
   },
   "source": [
    "# 抖音用户数据分析  \n",
    "$——3.数据挖掘探索—3.1 聚类分析$  \n",
    "<!--和鲸社区🐋：Shelter原创(https://www.heywhale.com/mw/project/637ae5ac53342897d9864cde)-->"
   ]
  },
  {
   "cell_type": "markdown",
   "metadata": {
    "id": "16C90E0CEAD846DC8425D9265A34287B",
    "jupyter": {},
    "notebookId": "637cfca87b4e5f9b3d6c56de",
    "runtime": {
     "execution_status": null,
     "is_visible": false,
     "status": "default"
    },
    "scrolled": false,
    "slideshow": {
     "slide_type": "slide"
    },
    "tags": [],
    "trusted": true
   },
   "source": [
    "在对用户、作者、作品进行简单的描述性统计分析与可视化展示后，我们尝试通过一些数据挖掘方法对数据进一步探究   \n",
    "对于抖音平台本身而言，如何对用户进行分类，或者分级，然后差异化的提供服务，是一个非常重要的方向  \n",
    "对于商务合作和广告投放者而言，如何对作者进行分类，如何选择合作的作者，也是有一定价值的问题  \n",
    "3.1中将针对用户和作者的数据特征，使用kmeans聚类算法量化的将两个群体进行分类"
   ]
  },
  {
   "cell_type": "code",
   "execution_count": 1,
   "metadata": {
    "collapsed": false,
    "id": "8A3A9FBC12E949C18830FD143AE1B703",
    "jupyter": {},
    "notebookId": "637cfca87b4e5f9b3d6c56de",
    "scrolled": false,
    "slideshow": {
     "slide_type": "slide"
    },
    "tags": [],
    "trusted": true
   },
   "outputs": [],
   "source": [
    "import numpy as np\n",
    "import pandas as pd\n",
    "\n",
    "from pyecharts.charts import *\n",
    "from pyecharts import options as opts\n",
    "\n",
    "from sklearn.cluster import KMeans\n",
    "import joblib\n",
    "from sklearn import metrics\n",
    "from scipy.spatial.distance import cdist"
   ]
  },
  {
   "cell_type": "markdown",
   "metadata": {
    "id": "48493F0F9F9A423284F7D1D97A2B2AA1",
    "jupyter": {},
    "notebookId": "637cfca87b4e5f9b3d6c56de",
    "runtime": {
     "execution_status": null,
     "is_visible": false,
     "status": "default"
    },
    "scrolled": false,
    "slideshow": {
     "slide_type": "slide"
    },
    "tags": [],
    "trusted": true
   },
   "source": [
    "## 1. 数据读取与数据处理"
   ]
  },
  {
   "cell_type": "markdown",
   "metadata": {
    "id": "FE2892CAF82B487E98DDDC0B8E85B7BF",
    "jupyter": {},
    "notebookId": "637cfca87b4e5f9b3d6c56de",
    "runtime": {
     "execution_status": null,
     "is_visible": false,
     "status": "default"
    },
    "scrolled": false,
    "slideshow": {
     "slide_type": "slide"
    },
    "tags": [],
    "trusted": true
   },
   "source": [
    "### 1.1 数据读取"
   ]
  },
  {
   "cell_type": "code",
   "execution_count": 2,
   "metadata": {
    "collapsed": false,
    "id": "043BA8F901D243B3A6B52BA21E4931E6",
    "jupyter": {},
    "notebookId": "637cfca87b4e5f9b3d6c56de",
    "scrolled": false,
    "slideshow": {
     "slide_type": "slide"
    },
    "tags": [],
    "trusted": true
   },
   "outputs": [],
   "source": [
    "user_feature = pd.read_csv('用户特征.csv', index_col=0)\n",
    "author_feature = pd.read_csv('作者特征.csv', index_col=0)"
   ]
  },
  {
   "cell_type": "markdown",
   "metadata": {
    "id": "E5D2908E93F9429982D72F24862FAAA1",
    "jupyter": {},
    "notebookId": "637cfca87b4e5f9b3d6c56de",
    "runtime": {
     "execution_status": null,
     "is_visible": false,
     "status": "default"
    },
    "scrolled": false,
    "slideshow": {
     "slide_type": "slide"
    },
    "tags": [],
    "trusted": true
   },
   "source": [
    "### 1.2 数据处理"
   ]
  },
  {
   "cell_type": "markdown",
   "metadata": {
    "id": "C0C4C49703024DB7B67E4EEEDEDA8C62",
    "jupyter": {},
    "notebookId": "637cfca87b4e5f9b3d6c56de",
    "runtime": {
     "execution_status": null,
     "is_visible": false,
     "status": "default"
    },
    "scrolled": false,
    "slideshow": {
     "slide_type": "slide"
    },
    "tags": [],
    "trusted": true
   },
   "source": [
    "用户聚类可以服务于平台对用户分级，探索性的分析用户特点，但在二、数据可视化分析中，可以看到有一部分用户使用程度平台低 ，浏览少，不点赞，对这样的用户进行聚类分析是无效多余的，增加筛选认为至少观看过一个完整短视频且有一定浏览量的用户才具有分析意义"
   ]
  },
  {
   "cell_type": "code",
   "execution_count": 3,
   "metadata": {
    "collapsed": false,
    "id": "BF2C50CAB2E74DAA88CCE2EDEE2704DF",
    "jupyter": {},
    "notebookId": "637cfca87b4e5f9b3d6c56de",
    "scrolled": false,
    "slideshow": {
     "slide_type": "slide"
    },
    "tags": [],
    "trusted": true
   },
   "outputs": [
    {
     "name": "stdout",
     "output_type": "stream",
     "text": [
      "0.7097514856834144\n"
     ]
    }
   ],
   "source": [
    "user_data = user_feature[(user_feature['完整观看数']>=1)&(user_feature['浏览量']>=5)]\n",
    "print(len(user_data)/len(user_feature))"
   ]
  },
  {
   "cell_type": "markdown",
   "metadata": {
    "id": "C8642A22182E40F690E93EC39F6D024E",
    "jupyter": {},
    "notebookId": "637cfca87b4e5f9b3d6c56de",
    "runtime": {
     "execution_status": null,
     "is_visible": false,
     "status": "default"
    },
    "scrolled": false,
    "slideshow": {
     "slide_type": "slide"
    },
    "tags": [],
    "trusted": true
   },
   "source": [
    "而在对作者的考量上，聚类的结果是服务于商务合作和广告投放，此时核心是浏览量  \n",
    "而大部分的作者总浏览量非常小，这些作者是无需考虑的，故进行筛选"
   ]
  },
  {
   "cell_type": "code",
   "execution_count": 4,
   "metadata": {
    "collapsed": false,
    "id": "9BB866E204D14E739F3044D7C735CC4E",
    "jupyter": {},
    "notebookId": "637cfca87b4e5f9b3d6c56de",
    "scrolled": false,
    "slideshow": {
     "slide_type": "slide"
    },
    "tags": [],
    "trusted": true
   },
   "outputs": [
    {
     "name": "stdout",
     "output_type": "stream",
     "text": [
      "0.2990244347629775\n"
     ]
    }
   ],
   "source": [
    "author_data = author_feature[(author_feature['总观完量']>=1)&(author_feature['总浏览量']>=3)]\n",
    "print(len(author_data)/len(author_feature))"
   ]
  },
  {
   "cell_type": "markdown",
   "metadata": {
    "id": "A19DB4BE30054EE2AC15DA14B554E823",
    "jupyter": {},
    "notebookId": "637cfca87b4e5f9b3d6c56de",
    "runtime": {
     "execution_status": null,
     "is_visible": false,
     "status": "default"
    },
    "scrolled": false,
    "slideshow": {
     "slide_type": "slide"
    },
    "tags": [],
    "trusted": true
   },
   "source": [
    "## 2. 聚类方法与定义"
   ]
  },
  {
   "cell_type": "markdown",
   "metadata": {
    "id": "37130218335F488EAA21092940B10088",
    "jupyter": {},
    "notebookId": "637cfca87b4e5f9b3d6c56de",
    "runtime": {
     "execution_status": null,
     "is_visible": false,
     "status": "default"
    },
    "scrolled": false,
    "slideshow": {
     "slide_type": "slide"
    },
    "tags": [],
    "trusted": true
   },
   "source": [
    "### 2.1 聚类方法"
   ]
  },
  {
   "cell_type": "markdown",
   "metadata": {
    "id": "18B4822C25FA448EBE50E17566740833",
    "jupyter": {},
    "notebookId": "637cfca87b4e5f9b3d6c56de",
    "runtime": {
     "execution_status": null,
     "is_visible": false,
     "status": "default"
    },
    "scrolled": false,
    "slideshow": {
     "slide_type": "slide"
    },
    "tags": [],
    "trusted": true
   },
   "source": [
    "关键参数：  \n",
    "- init='k-means++'   \n",
    "        对于kmeans算法，初始中心的选取是至关重要的。  \n",
    "        kmeans的随机选取方法可能会出现初始中心过于接近，导致迭代结果收敛慢，效果差  \n",
    "        kmeans++通过逐个选取中心，并优先选取距离较远的中心来优化初始中心的选择  \n",
    "- n_clusters: 聚类数  \n",
    "        聚类数的确定通过综合不同指标，应用肘部法则进行判断  \n",
    "\n",
    "评价指标  \n",
    "- SSE: 误差平方和  \n",
    "        当前迭代得到的中心位置到各自中心点簇的欧式距离总和  \n",
    "- 轮廓系数：sc轮廓系数  \n",
    "        都是结合了聚类的类内凝聚度和类间分离度  \n",
    "        sc轮廓系数∈[-1, 1]，越接近1越好"
   ]
  },
  {
   "cell_type": "markdown",
   "metadata": {
    "id": "AD1E59DB17FC470F8DDE53D6A087A832",
    "jupyter": {},
    "notebookId": "637cfca87b4e5f9b3d6c56de",
    "runtime": {
     "execution_status": null,
     "is_visible": false,
     "status": "default"
    },
    "scrolled": false,
    "slideshow": {
     "slide_type": "slide"
    },
    "tags": [],
    "trusted": true
   },
   "source": [
    "### 2.2 相关函数定义"
   ]
  },
  {
   "cell_type": "markdown",
   "metadata": {
    "id": "85D3B0105F88421786EB233478D8F582",
    "jupyter": {},
    "notebookId": "637cfca87b4e5f9b3d6c56de",
    "runtime": {
     "execution_status": null,
     "is_visible": false,
     "status": "default"
    },
    "scrolled": false,
    "slideshow": {
     "slide_type": "slide"
    },
    "tags": [],
    "trusted": true
   },
   "source": [
    "**Kmeans**"
   ]
  },
  {
   "cell_type": "code",
   "execution_count": 10,
   "metadata": {
    "collapsed": false,
    "id": "A1239C80DD234184A85DE225C364ED69",
    "jupyter": {},
    "notebookId": "637cfca87b4e5f9b3d6c56de",
    "scrolled": false,
    "slideshow": {
     "slide_type": "slide"
    },
    "tags": [],
    "trusted": true
   },
   "outputs": [],
   "source": [
    "def km(data, name):\n",
    "    K = range(2, 10) # K值选取范围\n",
    "    X = data # 数据\n",
    "    # scores = { 'SSE': [], 'sc': [], 'sse': []}\n",
    "    scores = {'sc': [], 'sse': []}\n",
    "    for _k in K:\n",
    "        # 初始化模型并进行聚类 - - - - - - - - - - - - - - - - - - - - - - - - - - - - - - -\n",
    "        kmeans = KMeans(n_clusters=_k, init='k-means++', random_state=0)\n",
    "        kmeans.fit(X)\n",
    "        _y = kmeans.predict(X) # 预测结果\n",
    "        # 计算模型评估指标 - - - - - - - - - - - - - - - - - - - - - - - - - - - - - - - - -\n",
    "        sse = sum(np.min(cdist(X,kmeans.cluster_centers_,'euclidean'),axis=1))/X.shape[0]\n",
    "        sc = metrics.silhouette_score(X, _y) # 计算轮廓系数\n",
    "        joblib.dump(kmeans, f'{name}{_k}聚类.model')\n",
    "        # 储存评估值 - - - - - - - - - - - - - - - - - - - - - - - - - - - - - - - - - - - -\n",
    "        # scores['SSE'].append(SSE)\n",
    "        scores['sse'].append(sse)\n",
    "        scores['sc'].append(sc)\n",
    "        print(f'聚{_k}类计算完成', end='\\t')\n",
    "    joblib.dump(scores, f'{name}聚类指标.score')\n",
    "    print('指标储存完毕')\n",
    "    return scores"
   ]
  },
  {
   "cell_type": "markdown",
   "metadata": {
    "id": "D48662470F084D4BBBEE035E01581FD0",
    "jupyter": {},
    "notebookId": "637cfca87b4e5f9b3d6c56de",
    "runtime": {
     "execution_status": null,
     "is_visible": false,
     "status": "default"
    },
    "scrolled": false,
    "slideshow": {
     "slide_type": "slide"
    },
    "tags": [],
    "trusted": true
   },
   "source": [
    "**绘制sse和sc曲线**"
   ]
  },
  {
   "cell_type": "code",
   "execution_count": 11,
   "metadata": {
    "collapsed": false,
    "id": "4B2BBEED74AF4B8A8F889223D51B8B6D",
    "jupyter": {},
    "notebookId": "637cfca87b4e5f9b3d6c56de",
    "scrolled": false,
    "slideshow": {
     "slide_type": "slide"
    },
    "tags": [],
    "trusted": true
   },
   "outputs": [],
   "source": [
    "def draw(k, sse, sc):\n",
    "    chart = (\n",
    "        Line(init_opts=opts.InitOpts(\n",
    "            theme='light',\n",
    "            width='350px',\n",
    "            height='350px'\n",
    "        ))\n",
    "        .add_xaxis(k)\n",
    "        .add_yaxis('sse', sse, yaxis_index=0, label_opts=opts.LabelOpts(is_show=False))\n",
    "        .add_yaxis('sc', sc, yaxis_index=1, label_opts=opts.LabelOpts(is_show=False))\n",
    "        .extend_axis(yaxis=opts.AxisOpts())\n",
    "        .set_global_opts(\n",
    "            title_opts=opts.TitleOpts(title='聚类效果'),\n",
    "            xaxis_opts=opts.AxisOpts(type_=\"category\", boundary_gap=True),\n",
    "            yaxis_opts=opts.AxisOpts(\n",
    "                type_=\"value\",\n",
    "                axistick_opts=opts.AxisTickOpts(is_show=True),\n",
    "                splitline_opts=opts.SplitLineOpts(is_show=True),\n",
    "            ),\n",
    "        )\n",
    "    )\n",
    "    return chart"
   ]
  },
  {
   "cell_type": "markdown",
   "metadata": {
    "id": "489DDF65A1454C08A290668ED22C3C02",
    "jupyter": {},
    "notebookId": "637cfca87b4e5f9b3d6c56de",
    "runtime": {
     "execution_status": null,
     "is_visible": false,
     "status": "default"
    },
    "scrolled": false,
    "slideshow": {
     "slide_type": "slide"
    },
    "tags": [],
    "trusted": true
   },
   "source": [
    "## 3. 用户特征聚类"
   ]
  },
  {
   "cell_type": "markdown",
   "metadata": {
    "id": "975E7D21ADBA44968C7C9AA95C3B5AFF",
    "jupyter": {},
    "notebookId": "637cfca87b4e5f9b3d6c56de",
    "runtime": {
     "execution_status": null,
     "is_visible": false,
     "status": "default"
    },
    "scrolled": false,
    "slideshow": {
     "slide_type": "slide"
    },
    "tags": [],
    "trusted": true
   },
   "source": [
    "### 3.1 模型训练与保存"
   ]
  },
  {
   "cell_type": "code",
   "execution_count": 12,
   "metadata": {
    "collapsed": false,
    "id": "3D3B8C04A3B74AB0A0EE489C0BF563CA",
    "jupyter": {},
    "notebookId": "637cfca87b4e5f9b3d6c56de",
    "scrolled": false,
    "slideshow": {
     "slide_type": "slide"
    },
    "tags": [],
    "trusted": true
   },
   "outputs": [
    {
     "name": "stdout",
     "output_type": "stream",
     "text": [
      "聚2类计算完成\t聚3类计算完成\t聚4类计算完成\t聚5类计算完成\t聚6类计算完成\t聚7类计算完成\t聚8类计算完成\t聚9类计算完成\t指标储存完毕\n"
     ]
    }
   ],
   "source": [
    "user_score = km(user_data, '用户')"
   ]
  },
  {
   "cell_type": "markdown",
   "metadata": {
    "id": "24FD8E46AAE449A0A5B2EED26693A510",
    "jupyter": {},
    "notebookId": "637cfca87b4e5f9b3d6c56de",
    "runtime": {
     "execution_status": null,
     "is_visible": false,
     "status": "default"
    },
    "scrolled": false,
    "slideshow": {
     "slide_type": "slide"
    },
    "tags": [],
    "trusted": true
   },
   "source": [
    "### 3.2 聚类k值选择"
   ]
  },
  {
   "cell_type": "code",
   "execution_count": 14,
   "metadata": {
    "collapsed": false,
    "id": "A02BA4F6222749668643EC87BAFD43A8",
    "jupyter": {},
    "notebookId": "637cfca87b4e5f9b3d6c56de",
    "scrolled": false,
    "slideshow": {
     "slide_type": "slide"
    },
    "tags": [],
    "trusted": true
   },
   "outputs": [
    {
     "data": {
      "text/html": [
       "<script>\n",
       "    require.config({\n",
       "        paths: {\n",
       "            'echarts':'https://assets.pyecharts.org/assets/echarts.min'\n",
       "        }\n",
       "    });\n",
       "</script>\n",
       "\n",
       "    <div id=\"27634cadac5946d99e47111d0e2304ec\" style=\"width:350px; height:350px;\"></div>\n",
       "\n",
       "\n",
       "<script>\n",
       "    require(['echarts'], function(echarts) {\n",
       "        var chart_27634cadac5946d99e47111d0e2304ec = echarts.init(\n",
       "            document.getElementById('27634cadac5946d99e47111d0e2304ec'), 'light', {renderer: 'canvas'});\n",
       "        var option_27634cadac5946d99e47111d0e2304ec = {\n",
       "    \"series\": [\n",
       "        {\n",
       "            \"type\": \"line\",\n",
       "            \"name\": \"sse\",\n",
       "            \"yAxisIndex\": 0,\n",
       "            \"symbolSize\": 4,\n",
       "            \"showSymbol\": true,\n",
       "            \"smooth\": false,\n",
       "            \"step\": false,\n",
       "            \"data\": [\n",
       "                [\n",
       "                    \"2\",\n",
       "                    45.00705039008804\n",
       "                ],\n",
       "                [\n",
       "                    \"3\",\n",
       "                    33.746003869924486\n",
       "                ],\n",
       "                [\n",
       "                    \"4\",\n",
       "                    27.13824078411598\n",
       "                ],\n",
       "                [\n",
       "                    \"5\",\n",
       "                    22.820764397475262\n",
       "                ],\n",
       "                [\n",
       "                    \"6\",\n",
       "                    19.899125730731747\n",
       "                ],\n",
       "                [\n",
       "                    \"7\",\n",
       "                    18.913633247551626\n",
       "                ],\n",
       "                [\n",
       "                    \"8\",\n",
       "                    17.275154124401467\n",
       "                ],\n",
       "                [\n",
       "                    \"9\",\n",
       "                    16.669195229514475\n",
       "                ]\n",
       "            ],\n",
       "            \"label\": {\n",
       "                \"show\": false,\n",
       "                \"position\": \"top\",\n",
       "                \"margin\": 8,\n",
       "                \"fontSize\": 12\n",
       "            },\n",
       "            \"lineStyle\": {\n",
       "                \"width\": 1,\n",
       "                \"opacity\": 1,\n",
       "                \"curveness\": 0,\n",
       "                \"type\": \"solid\"\n",
       "            },\n",
       "            \"areaStyle\": {\n",
       "                \"opacity\": 0\n",
       "            }\n",
       "        },\n",
       "        {\n",
       "            \"type\": \"line\",\n",
       "            \"name\": \"sc\",\n",
       "            \"yAxisIndex\": 1,\n",
       "            \"symbolSize\": 4,\n",
       "            \"showSymbol\": true,\n",
       "            \"smooth\": false,\n",
       "            \"step\": false,\n",
       "            \"data\": [\n",
       "                [\n",
       "                    \"2\",\n",
       "                    0.7686404129941758\n",
       "                ],\n",
       "                [\n",
       "                    \"3\",\n",
       "                    0.6853703709135424\n",
       "                ],\n",
       "                [\n",
       "                    \"4\",\n",
       "                    0.6423100256785099\n",
       "                ],\n",
       "                [\n",
       "                    \"5\",\n",
       "                    0.6071549062843449\n",
       "                ],\n",
       "                [\n",
       "                    \"6\",\n",
       "                    0.575945289822734\n",
       "                ],\n",
       "                [\n",
       "                    \"7\",\n",
       "                    0.5683567509063935\n",
       "                ],\n",
       "                [\n",
       "                    \"8\",\n",
       "                    0.5507306217115153\n",
       "                ],\n",
       "                [\n",
       "                    \"9\",\n",
       "                    0.5422027308674436\n",
       "                ]\n",
       "            ],\n",
       "            \"label\": {\n",
       "                \"show\": false,\n",
       "                \"position\": \"top\",\n",
       "                \"margin\": 8,\n",
       "                \"fontSize\": 12\n",
       "            },\n",
       "            \"lineStyle\": {\n",
       "                \"width\": 1,\n",
       "                \"opacity\": 1,\n",
       "                \"curveness\": 0,\n",
       "                \"type\": \"solid\"\n",
       "            },\n",
       "            \"areaStyle\": {\n",
       "                \"opacity\": 0\n",
       "            }\n",
       "        }\n",
       "    ],\n",
       "    \"legend\": [\n",
       "        {\n",
       "            \"data\": [\n",
       "                \"sse\",\n",
       "                \"sc\"\n",
       "            ],\n",
       "            \"selected\": {\n",
       "                \"sse\": true,\n",
       "                \"sc\": true\n",
       "            },\n",
       "            \"show\": true\n",
       "        }\n",
       "    ],\n",
       "    \"tooltip\": {\n",
       "        \"show\": true,\n",
       "        \"trigger\": \"item\",\n",
       "        \"triggerOn\": \"mousemove|click\",\n",
       "        \"axisPointer\": {\n",
       "            \"type\": \"line\"\n",
       "        },\n",
       "        \"textStyle\": {\n",
       "            \"fontSize\": 14\n",
       "        },\n",
       "        \"borderWidth\": 0\n",
       "    },\n",
       "    \"yAxis\": [\n",
       "        {\n",
       "            \"type\": \"value\",\n",
       "            \"show\": true,\n",
       "            \"scale\": false,\n",
       "            \"nameLocation\": \"end\",\n",
       "            \"nameGap\": 15,\n",
       "            \"gridIndex\": 0,\n",
       "            \"axisTick\": {\n",
       "                \"show\": true,\n",
       "                \"alignWithLabel\": false,\n",
       "                \"inside\": false\n",
       "            },\n",
       "            \"inverse\": false,\n",
       "            \"offset\": 0,\n",
       "            \"splitNumber\": 5,\n",
       "            \"minInterval\": 0,\n",
       "            \"splitLine\": {\n",
       "                \"show\": true,\n",
       "                \"lineStyle\": {\n",
       "                    \"width\": 1,\n",
       "                    \"opacity\": 1,\n",
       "                    \"curveness\": 0,\n",
       "                    \"type\": \"solid\"\n",
       "                }\n",
       "            }\n",
       "        },\n",
       "        {\n",
       "            \"show\": true,\n",
       "            \"scale\": false,\n",
       "            \"nameLocation\": \"end\",\n",
       "            \"nameGap\": 15,\n",
       "            \"gridIndex\": 0,\n",
       "            \"inverse\": false,\n",
       "            \"offset\": 0,\n",
       "            \"splitNumber\": 5,\n",
       "            \"minInterval\": 0,\n",
       "            \"splitLine\": {\n",
       "                \"show\": false,\n",
       "                \"lineStyle\": {\n",
       "                    \"width\": 1,\n",
       "                    \"opacity\": 1,\n",
       "                    \"curveness\": 0,\n",
       "                    \"type\": \"solid\"\n",
       "                }\n",
       "            }\n",
       "        }\n",
       "    ],\n",
       "    \"xAxis\": [\n",
       "        {\n",
       "            \"type\": \"category\",\n",
       "            \"show\": true,\n",
       "            \"scale\": false,\n",
       "            \"nameLocation\": \"end\",\n",
       "            \"nameGap\": 15,\n",
       "            \"gridIndex\": 0,\n",
       "            \"inverse\": false,\n",
       "            \"offset\": 0,\n",
       "            \"splitNumber\": 5,\n",
       "            \"boundaryGap\": true,\n",
       "            \"minInterval\": 0,\n",
       "            \"splitLine\": {\n",
       "                \"show\": false,\n",
       "                \"lineStyle\": {\n",
       "                    \"width\": 1,\n",
       "                    \"opacity\": 1,\n",
       "                    \"curveness\": 0,\n",
       "                    \"type\": \"solid\"\n",
       "                }\n",
       "            },\n",
       "            \"data\": [\n",
       "                \"2\",\n",
       "                \"3\",\n",
       "                \"4\",\n",
       "                \"5\",\n",
       "                \"6\",\n",
       "                \"7\",\n",
       "                \"8\",\n",
       "                \"9\"\n",
       "            ]\n",
       "        }\n",
       "    ],\n",
       "    \"title\": [\n",
       "        {\n",
       "            \"text\": \"\\u805a\\u7c7b\\u6548\\u679c\"\n",
       "        }\n",
       "    ]\n",
       "};\n",
       "        chart_27634cadac5946d99e47111d0e2304ec.setOption(option_27634cadac5946d99e47111d0e2304ec);\n",
       "    });\n",
       "</script>\n"
      ],
      "text/plain": [
       "<pyecharts.render.display.HTML at 0x7fa78d9e4940>"
      ]
     },
     "execution_count": 14,
     "metadata": {},
     "output_type": "execute_result"
    }
   ],
   "source": [
    "user_score =  joblib.load(f'用户聚类指标.score')\n",
    "draw([str(x) for x in range(2,10)], user_score['sse'], user_score['sc']).render_notebook()"
   ]
  },
  {
   "cell_type": "markdown",
   "metadata": {
    "id": "FEA8E6829DC54233896AEE76FFB6A154",
    "jupyter": {},
    "notebookId": "637cfca87b4e5f9b3d6c56de",
    "runtime": {
     "execution_status": null,
     "is_visible": false,
     "status": "default"
    },
    "scrolled": false,
    "slideshow": {
     "slide_type": "slide"
    },
    "tags": [],
    "trusted": true
   },
   "source": [
    "通过综合肘部法则和sc值，选择$k=4$作为用户聚类模型"
   ]
  },
  {
   "cell_type": "markdown",
   "metadata": {
    "id": "2B19A85196CA47DE8E578D2748610051",
    "jupyter": {},
    "notebookId": "637cfca87b4e5f9b3d6c56de",
    "runtime": {
     "execution_status": null,
     "is_visible": false,
     "status": "default"
    },
    "scrolled": false,
    "slideshow": {
     "slide_type": "slide"
    },
    "tags": [],
    "trusted": true
   },
   "source": [
    "### 3.3 聚类结果"
   ]
  },
  {
   "cell_type": "code",
   "execution_count": 15,
   "metadata": {
    "collapsed": false,
    "id": "3EC53F30570A42DD8747EFCB38FE47F0",
    "jupyter": {},
    "notebookId": "637cfca87b4e5f9b3d6c56de",
    "scrolled": false,
    "slideshow": {
     "slide_type": "slide"
    },
    "tags": [],
    "trusted": true
   },
   "outputs": [
    {
     "data": {
      "text/html": [
       "<div>\n",
       "<style scoped>\n",
       "    .dataframe tbody tr th:only-of-type {\n",
       "        vertical-align: middle;\n",
       "    }\n",
       "\n",
       "    .dataframe tbody tr th {\n",
       "        vertical-align: top;\n",
       "    }\n",
       "\n",
       "    .dataframe thead th {\n",
       "        text-align: right;\n",
       "    }\n",
       "</style>\n",
       "<table border=\"1\" class=\"dataframe\">\n",
       "  <thead>\n",
       "    <tr style=\"text-align: right;\">\n",
       "      <th></th>\n",
       "      <th>浏览量</th>\n",
       "      <th>点赞量</th>\n",
       "      <th>观看作者数</th>\n",
       "      <th>观看作品数</th>\n",
       "      <th>观看作品平均时长</th>\n",
       "      <th>观看配乐数</th>\n",
       "      <th>完整观看数</th>\n",
       "      <th>去过的城市数</th>\n",
       "      <th>观看作品城市数</th>\n",
       "      <th>人数</th>\n",
       "    </tr>\n",
       "  </thead>\n",
       "  <tbody>\n",
       "    <tr>\n",
       "      <th>0</th>\n",
       "      <td>65.559893</td>\n",
       "      <td>0.651947</td>\n",
       "      <td>63.616853</td>\n",
       "      <td>65.559040</td>\n",
       "      <td>11.175167</td>\n",
       "      <td>58.035413</td>\n",
       "      <td>27.440747</td>\n",
       "      <td>1.274133</td>\n",
       "      <td>47.094827</td>\n",
       "      <td>9366</td>\n",
       "    </tr>\n",
       "    <tr>\n",
       "      <th>1</th>\n",
       "      <td>381.603365</td>\n",
       "      <td>3.012019</td>\n",
       "      <td>353.144231</td>\n",
       "      <td>381.598558</td>\n",
       "      <td>10.969891</td>\n",
       "      <td>276.408654</td>\n",
       "      <td>92.346154</td>\n",
       "      <td>1.324519</td>\n",
       "      <td>140.896635</td>\n",
       "      <td>416</td>\n",
       "    </tr>\n",
       "    <tr>\n",
       "      <th>2</th>\n",
       "      <td>162.612409</td>\n",
       "      <td>1.259288</td>\n",
       "      <td>154.847185</td>\n",
       "      <td>162.610494</td>\n",
       "      <td>11.078860</td>\n",
       "      <td>131.901187</td>\n",
       "      <td>54.075450</td>\n",
       "      <td>1.293757</td>\n",
       "      <td>88.666794</td>\n",
       "      <td>2610</td>\n",
       "    </tr>\n",
       "    <tr>\n",
       "      <th>3</th>\n",
       "      <td>16.791653</td>\n",
       "      <td>0.190634</td>\n",
       "      <td>16.512585</td>\n",
       "      <td>16.791518</td>\n",
       "      <td>11.315000</td>\n",
       "      <td>15.934307</td>\n",
       "      <td>8.124806</td>\n",
       "      <td>1.170288</td>\n",
       "      <td>14.572070</td>\n",
       "      <td>29648</td>\n",
       "    </tr>\n",
       "  </tbody>\n",
       "</table>\n",
       "</div>"
      ],
      "text/plain": [
       "          浏览量       点赞量       观看作者数       观看作品数   观看作品平均时长       观看配乐数  \\\n",
       "0   65.559893  0.651947   63.616853   65.559040  11.175167   58.035413   \n",
       "1  381.603365  3.012019  353.144231  381.598558  10.969891  276.408654   \n",
       "2  162.612409  1.259288  154.847185  162.610494  11.078860  131.901187   \n",
       "3   16.791653  0.190634   16.512585   16.791518  11.315000   15.934307   \n",
       "\n",
       "       完整观看数    去过的城市数     观看作品城市数     人数  \n",
       "0  27.440747  1.274133   47.094827   9366  \n",
       "1  92.346154  1.324519  140.896635    416  \n",
       "2  54.075450  1.293757   88.666794   2610  \n",
       "3   8.124806  1.170288   14.572070  29648  "
      ]
     },
     "execution_count": 15,
     "metadata": {},
     "output_type": "execute_result"
    }
   ],
   "source": [
    "user_km = joblib.load(f'用户4聚类.model')\n",
    "user_centers = pd.DataFrame(user_km.cluster_centers_, columns=user_feature.columns)\n",
    "user_centers['人数']=pd.Series(user_km.predict(user_data)).value_counts()\n",
    "user_centers"
   ]
  },
  {
   "cell_type": "markdown",
   "metadata": {
    "id": "8C7AB7FD613944079C3CCCA9E1A131FA",
    "jupyter": {},
    "notebookId": "637cfca87b4e5f9b3d6c56de",
    "runtime": {
     "execution_status": null,
     "is_visible": false,
     "status": "default"
    },
    "scrolled": false,
    "slideshow": {
     "slide_type": "slide"
    },
    "tags": [],
    "trusted": true
   },
   "source": [
    "## 4. 作者特征聚类"
   ]
  },
  {
   "cell_type": "markdown",
   "metadata": {
    "id": "BD3F42BFDCA84F40B4ED9592EE2B7C45",
    "jupyter": {},
    "notebookId": "637cfca87b4e5f9b3d6c56de",
    "runtime": {
     "execution_status": null,
     "is_visible": false,
     "status": "default"
    },
    "scrolled": false,
    "slideshow": {
     "slide_type": "slide"
    },
    "tags": [],
    "trusted": true
   },
   "source": [
    "### 4.1 模型训练与保存"
   ]
  },
  {
   "cell_type": "code",
   "execution_count": 16,
   "metadata": {
    "collapsed": false,
    "id": "B04D4FCF78BF439C9BE613A957B24834",
    "jupyter": {},
    "notebookId": "637cfca87b4e5f9b3d6c56de",
    "scrolled": false,
    "slideshow": {
     "slide_type": "slide"
    },
    "tags": [],
    "trusted": true
   },
   "outputs": [
    {
     "name": "stdout",
     "output_type": "stream",
     "text": [
      "聚2类计算完成\t聚3类计算完成\t聚4类计算完成\t聚5类计算完成\t聚6类计算完成\t聚7类计算完成\t聚8类计算完成\t聚9类计算完成\t指标储存完毕\n"
     ]
    }
   ],
   "source": [
    "author_score = km(author_data, '作者')"
   ]
  },
  {
   "cell_type": "markdown",
   "metadata": {
    "id": "5D12447D8CE74BC38C8326F7C7B3007C",
    "jupyter": {},
    "notebookId": "637cfca87b4e5f9b3d6c56de",
    "runtime": {
     "execution_status": null,
     "is_visible": false,
     "status": "default"
    },
    "scrolled": false,
    "slideshow": {
     "slide_type": "slide"
    },
    "tags": [],
    "trusted": true
   },
   "source": [
    "### 4.2 聚类k值选择"
   ]
  },
  {
   "cell_type": "code",
   "execution_count": 17,
   "metadata": {
    "collapsed": false,
    "id": "DA1313B0DAC7409893F070CD0072D57B",
    "jupyter": {},
    "notebookId": "637cfca87b4e5f9b3d6c56de",
    "scrolled": false,
    "slideshow": {
     "slide_type": "slide"
    },
    "tags": [],
    "trusted": true
   },
   "outputs": [
    {
     "data": {
      "text/html": [
       "<script>\n",
       "    require.config({\n",
       "        paths: {\n",
       "            'echarts':'https://assets.pyecharts.org/assets/echarts.min'\n",
       "        }\n",
       "    });\n",
       "</script>\n",
       "\n",
       "    <div id=\"c4d8bf39862142f49913449f26f579e1\" style=\"width:350px; height:350px;\"></div>\n",
       "\n",
       "\n",
       "<script>\n",
       "    require(['echarts'], function(echarts) {\n",
       "        var chart_c4d8bf39862142f49913449f26f579e1 = echarts.init(\n",
       "            document.getElementById('c4d8bf39862142f49913449f26f579e1'), 'light', {renderer: 'canvas'});\n",
       "        var option_c4d8bf39862142f49913449f26f579e1 = {\n",
       "    \"series\": [\n",
       "        {\n",
       "            \"type\": \"line\",\n",
       "            \"name\": \"sse\",\n",
       "            \"yAxisIndex\": 0,\n",
       "            \"symbolSize\": 4,\n",
       "            \"showSymbol\": true,\n",
       "            \"smooth\": false,\n",
       "            \"step\": false,\n",
       "            \"data\": [\n",
       "                [\n",
       "                    \"2\",\n",
       "                    27.023476888436402\n",
       "                ],\n",
       "                [\n",
       "                    \"3\",\n",
       "                    22.394498999875466\n",
       "                ],\n",
       "                [\n",
       "                    \"4\",\n",
       "                    19.765692858098827\n",
       "                ],\n",
       "                [\n",
       "                    \"5\",\n",
       "                    18.76352125414946\n",
       "                ],\n",
       "                [\n",
       "                    \"6\",\n",
       "                    17.32667677414502\n",
       "                ],\n",
       "                [\n",
       "                    \"7\",\n",
       "                    15.996854454904431\n",
       "                ],\n",
       "                [\n",
       "                    \"8\",\n",
       "                    13.33202337728596\n",
       "                ],\n",
       "                [\n",
       "                    \"9\",\n",
       "                    12.600474490743078\n",
       "                ]\n",
       "            ],\n",
       "            \"label\": {\n",
       "                \"show\": false,\n",
       "                \"position\": \"top\",\n",
       "                \"margin\": 8,\n",
       "                \"fontSize\": 12\n",
       "            },\n",
       "            \"lineStyle\": {\n",
       "                \"width\": 1,\n",
       "                \"opacity\": 1,\n",
       "                \"curveness\": 0,\n",
       "                \"type\": \"solid\"\n",
       "            },\n",
       "            \"areaStyle\": {\n",
       "                \"opacity\": 0\n",
       "            }\n",
       "        },\n",
       "        {\n",
       "            \"type\": \"line\",\n",
       "            \"name\": \"sc\",\n",
       "            \"yAxisIndex\": 1,\n",
       "            \"symbolSize\": 4,\n",
       "            \"showSymbol\": true,\n",
       "            \"smooth\": false,\n",
       "            \"step\": false,\n",
       "            \"data\": [\n",
       "                [\n",
       "                    \"2\",\n",
       "                    0.9110921689722098\n",
       "                ],\n",
       "                [\n",
       "                    \"3\",\n",
       "                    0.8406021331977759\n",
       "                ],\n",
       "                [\n",
       "                    \"4\",\n",
       "                    0.7719275961622794\n",
       "                ],\n",
       "                [\n",
       "                    \"5\",\n",
       "                    0.7421575064045883\n",
       "                ],\n",
       "                [\n",
       "                    \"6\",\n",
       "                    0.6722753306804978\n",
       "                ],\n",
       "                [\n",
       "                    \"7\",\n",
       "                    0.5792974956519009\n",
       "                ],\n",
       "                [\n",
       "                    \"8\",\n",
       "                    0.4256819529566973\n",
       "                ],\n",
       "                [\n",
       "                    \"9\",\n",
       "                    0.4263717155972446\n",
       "                ]\n",
       "            ],\n",
       "            \"label\": {\n",
       "                \"show\": false,\n",
       "                \"position\": \"top\",\n",
       "                \"margin\": 8,\n",
       "                \"fontSize\": 12\n",
       "            },\n",
       "            \"lineStyle\": {\n",
       "                \"width\": 1,\n",
       "                \"opacity\": 1,\n",
       "                \"curveness\": 0,\n",
       "                \"type\": \"solid\"\n",
       "            },\n",
       "            \"areaStyle\": {\n",
       "                \"opacity\": 0\n",
       "            }\n",
       "        }\n",
       "    ],\n",
       "    \"legend\": [\n",
       "        {\n",
       "            \"data\": [\n",
       "                \"sse\",\n",
       "                \"sc\"\n",
       "            ],\n",
       "            \"selected\": {\n",
       "                \"sse\": true,\n",
       "                \"sc\": true\n",
       "            },\n",
       "            \"show\": true\n",
       "        }\n",
       "    ],\n",
       "    \"tooltip\": {\n",
       "        \"show\": true,\n",
       "        \"trigger\": \"item\",\n",
       "        \"triggerOn\": \"mousemove|click\",\n",
       "        \"axisPointer\": {\n",
       "            \"type\": \"line\"\n",
       "        },\n",
       "        \"textStyle\": {\n",
       "            \"fontSize\": 14\n",
       "        },\n",
       "        \"borderWidth\": 0\n",
       "    },\n",
       "    \"yAxis\": [\n",
       "        {\n",
       "            \"type\": \"value\",\n",
       "            \"show\": true,\n",
       "            \"scale\": false,\n",
       "            \"nameLocation\": \"end\",\n",
       "            \"nameGap\": 15,\n",
       "            \"gridIndex\": 0,\n",
       "            \"axisTick\": {\n",
       "                \"show\": true,\n",
       "                \"alignWithLabel\": false,\n",
       "                \"inside\": false\n",
       "            },\n",
       "            \"inverse\": false,\n",
       "            \"offset\": 0,\n",
       "            \"splitNumber\": 5,\n",
       "            \"minInterval\": 0,\n",
       "            \"splitLine\": {\n",
       "                \"show\": true,\n",
       "                \"lineStyle\": {\n",
       "                    \"width\": 1,\n",
       "                    \"opacity\": 1,\n",
       "                    \"curveness\": 0,\n",
       "                    \"type\": \"solid\"\n",
       "                }\n",
       "            }\n",
       "        },\n",
       "        {\n",
       "            \"show\": true,\n",
       "            \"scale\": false,\n",
       "            \"nameLocation\": \"end\",\n",
       "            \"nameGap\": 15,\n",
       "            \"gridIndex\": 0,\n",
       "            \"inverse\": false,\n",
       "            \"offset\": 0,\n",
       "            \"splitNumber\": 5,\n",
       "            \"minInterval\": 0,\n",
       "            \"splitLine\": {\n",
       "                \"show\": false,\n",
       "                \"lineStyle\": {\n",
       "                    \"width\": 1,\n",
       "                    \"opacity\": 1,\n",
       "                    \"curveness\": 0,\n",
       "                    \"type\": \"solid\"\n",
       "                }\n",
       "            }\n",
       "        }\n",
       "    ],\n",
       "    \"xAxis\": [\n",
       "        {\n",
       "            \"type\": \"category\",\n",
       "            \"show\": true,\n",
       "            \"scale\": false,\n",
       "            \"nameLocation\": \"end\",\n",
       "            \"nameGap\": 15,\n",
       "            \"gridIndex\": 0,\n",
       "            \"inverse\": false,\n",
       "            \"offset\": 0,\n",
       "            \"splitNumber\": 5,\n",
       "            \"boundaryGap\": true,\n",
       "            \"minInterval\": 0,\n",
       "            \"splitLine\": {\n",
       "                \"show\": false,\n",
       "                \"lineStyle\": {\n",
       "                    \"width\": 1,\n",
       "                    \"opacity\": 1,\n",
       "                    \"curveness\": 0,\n",
       "                    \"type\": \"solid\"\n",
       "                }\n",
       "            },\n",
       "            \"data\": [\n",
       "                \"2\",\n",
       "                \"3\",\n",
       "                \"4\",\n",
       "                \"5\",\n",
       "                \"6\",\n",
       "                \"7\",\n",
       "                \"8\",\n",
       "                \"9\"\n",
       "            ]\n",
       "        }\n",
       "    ],\n",
       "    \"title\": [\n",
       "        {\n",
       "            \"text\": \"\\u805a\\u7c7b\\u6548\\u679c\"\n",
       "        }\n",
       "    ]\n",
       "};\n",
       "        chart_c4d8bf39862142f49913449f26f579e1.setOption(option_c4d8bf39862142f49913449f26f579e1);\n",
       "    });\n",
       "</script>\n"
      ],
      "text/plain": [
       "<pyecharts.render.display.HTML at 0x7fa78d9a7f98>"
      ]
     },
     "execution_count": 17,
     "metadata": {},
     "output_type": "execute_result"
    }
   ],
   "source": [
    "author_score =  joblib.load(f'作者聚类指标.score')\n",
    "draw([str(x) for x in range(2,10)], author_score['sse'], author_score['sc']).render_notebook()"
   ]
  },
  {
   "cell_type": "markdown",
   "metadata": {
    "id": "7B7CF9B2532C4F3E846CCFA5E3731B53",
    "jupyter": {},
    "notebookId": "637cfca87b4e5f9b3d6c56de",
    "runtime": {
     "execution_status": null,
     "is_visible": false,
     "status": "default"
    },
    "scrolled": false,
    "slideshow": {
     "slide_type": "slide"
    },
    "tags": [],
    "trusted": true
   },
   "source": [
    "通过综合肘部法则和sc值，选择$k=4$作为用作者聚类模型"
   ]
  },
  {
   "cell_type": "markdown",
   "metadata": {
    "id": "8D4E95349C424A75877E59B642B92C38",
    "jupyter": {},
    "notebookId": "637cfca87b4e5f9b3d6c56de",
    "runtime": {
     "execution_status": null,
     "is_visible": false,
     "status": "default"
    },
    "scrolled": false,
    "slideshow": {
     "slide_type": "slide"
    },
    "tags": [],
    "trusted": true
   },
   "source": [
    "### 4.3 聚类效果"
   ]
  },
  {
   "cell_type": "code",
   "execution_count": 18,
   "metadata": {
    "collapsed": false,
    "id": "81CED2282A4B4A8086D1CC1876E1F88F",
    "jupyter": {},
    "notebookId": "637cfca87b4e5f9b3d6c56de",
    "scrolled": false,
    "slideshow": {
     "slide_type": "slide"
    },
    "tags": [],
    "trusted": true
   },
   "outputs": [
    {
     "data": {
      "text/html": [
       "<div>\n",
       "<style scoped>\n",
       "    .dataframe tbody tr th:only-of-type {\n",
       "        vertical-align: middle;\n",
       "    }\n",
       "\n",
       "    .dataframe tbody tr th {\n",
       "        vertical-align: top;\n",
       "    }\n",
       "\n",
       "    .dataframe thead th {\n",
       "        text-align: right;\n",
       "    }\n",
       "</style>\n",
       "<table border=\"1\" class=\"dataframe\">\n",
       "  <thead>\n",
       "    <tr style=\"text-align: right;\">\n",
       "      <th></th>\n",
       "      <th>总浏览量</th>\n",
       "      <th>总点赞量</th>\n",
       "      <th>总观完量</th>\n",
       "      <th>总作品数</th>\n",
       "      <th>作品平均时长</th>\n",
       "      <th>使用配乐数量</th>\n",
       "      <th>发布作品日数</th>\n",
       "      <th>创作活跃度(日)</th>\n",
       "      <th>去过的城市数</th>\n",
       "      <th>人数</th>\n",
       "    </tr>\n",
       "  </thead>\n",
       "  <tbody>\n",
       "    <tr>\n",
       "      <th>0</th>\n",
       "      <td>11.973167</td>\n",
       "      <td>0.115981</td>\n",
       "      <td>5.019598</td>\n",
       "      <td>3.636747</td>\n",
       "      <td>10.783111</td>\n",
       "      <td>3.198138</td>\n",
       "      <td>3.636625</td>\n",
       "      <td>11.301008</td>\n",
       "      <td>1.114046</td>\n",
       "      <td>57356</td>\n",
       "    </tr>\n",
       "    <tr>\n",
       "      <th>1</th>\n",
       "      <td>376.060858</td>\n",
       "      <td>3.428769</td>\n",
       "      <td>165.146611</td>\n",
       "      <td>20.035961</td>\n",
       "      <td>11.126590</td>\n",
       "      <td>13.811895</td>\n",
       "      <td>20.034578</td>\n",
       "      <td>24.224066</td>\n",
       "      <td>1.289073</td>\n",
       "      <td>723</td>\n",
       "    </tr>\n",
       "    <tr>\n",
       "      <th>2</th>\n",
       "      <td>1092.821053</td>\n",
       "      <td>8.347368</td>\n",
       "      <td>461.315789</td>\n",
       "      <td>31.126316</td>\n",
       "      <td>11.165662</td>\n",
       "      <td>19.957895</td>\n",
       "      <td>31.126316</td>\n",
       "      <td>27.926316</td>\n",
       "      <td>1.326316</td>\n",
       "      <td>95</td>\n",
       "    </tr>\n",
       "    <tr>\n",
       "      <th>3</th>\n",
       "      <td>117.075717</td>\n",
       "      <td>1.148983</td>\n",
       "      <td>51.548395</td>\n",
       "      <td>12.432737</td>\n",
       "      <td>10.993801</td>\n",
       "      <td>9.434942</td>\n",
       "      <td>12.431267</td>\n",
       "      <td>21.253124</td>\n",
       "      <td>1.236217</td>\n",
       "      <td>4079</td>\n",
       "    </tr>\n",
       "  </tbody>\n",
       "</table>\n",
       "</div>"
      ],
      "text/plain": [
       "          总浏览量      总点赞量        总观完量       总作品数     作品平均时长     使用配乐数量  \\\n",
       "0    11.973167  0.115981    5.019598   3.636747  10.783111   3.198138   \n",
       "1   376.060858  3.428769  165.146611  20.035961  11.126590  13.811895   \n",
       "2  1092.821053  8.347368  461.315789  31.126316  11.165662  19.957895   \n",
       "3   117.075717  1.148983   51.548395  12.432737  10.993801   9.434942   \n",
       "\n",
       "      发布作品日数   创作活跃度(日)    去过的城市数     人数  \n",
       "0   3.636625  11.301008  1.114046  57356  \n",
       "1  20.034578  24.224066  1.289073    723  \n",
       "2  31.126316  27.926316  1.326316     95  \n",
       "3  12.431267  21.253124  1.236217   4079  "
      ]
     },
     "execution_count": 18,
     "metadata": {},
     "output_type": "execute_result"
    }
   ],
   "source": [
    "author_km = joblib.load(f'作者4聚类.model')\n",
    "author_centers = pd.DataFrame(author_km.cluster_centers_, columns=author_feature.columns)\n",
    "author_centers['人数'] = pd.Series(author_km.predict(author_data)).value_counts()\n",
    "author_centers"
   ]
  },
  {
   "cell_type": "markdown",
   "metadata": {
    "id": "83E9706B88374F6DA2B3E01256B1C1DB",
    "jupyter": {},
    "notebookId": "637cfca87b4e5f9b3d6c56de",
    "runtime": {
     "execution_status": null,
     "is_visible": false,
     "status": "default"
    },
    "scrolled": false,
    "slideshow": {
     "slide_type": "slide"
    },
    "tags": [],
    "trusted": true
   },
   "source": [
    "## 总结  \n",
    "聚类的结果解释性较为明显，其核心与浏览量相关，提供了一定数据特征下的量化分类作用  "
   ]
  }
 ],
 "metadata": {
  "kernelspec": {
   "display_name": "Python 3",
   "language": "python",
   "name": "python3"
  },
  "language_info": {
   "codemirror_mode": {
    "name": "ipython",
    "version": 3
   },
   "file_extension": ".py",
   "mimetype": "text/x-python",
   "name": "python",
   "nbconvert_exporter": "python",
   "pygments_lexer": "ipython3",
   "version": "3.5.2"
  }
 },
 "nbformat": 4,
 "nbformat_minor": 0
}
