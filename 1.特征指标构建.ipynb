{
 "cells": [
  {
   "cell_type": "markdown",
   "metadata": {
    "id": "92C02BF5389F4928950AF45C0D70FFDA",
    "jupyter": {},
    "mdEditEnable": false,
    "notebookId": "637ae5ac53342897d9864ce8",
    "runtime": {
     "execution_status": null,
     "is_visible": false,
     "status": "default"
    },
    "scrolled": true,
    "slideshow": {
     "slide_type": "slide"
    },
    "tags": [],
    "trusted": true
   },
   "source": [
    "\n",
    "![Image Name](https://img0.baidu.com/it/u=2691303322,1862126319&fm=253&fmt=auto&app=138&f=PNG?w=620&h=349)  \n"
   ]
  },
  {
   "cell_type": "markdown",
   "metadata": {
    "id": "450C523B1DDB422F81C692AF9DF765B0",
    "jupyter": {},
    "mdEditEnable": false,
    "notebookId": "637ae5ac53342897d9864ce8",
    "runtime": {
     "execution_status": null,
     "is_visible": false,
     "status": "default"
    },
    "scrolled": true,
    "slideshow": {
     "slide_type": "slide"
    },
    "tags": [],
    "trusted": true
   },
   "source": [
    "# 抖音用户数据分析  \n",
    "$——1.特征指标构建$  \n"
   ]
  },
  {
   "cell_type": "markdown",
   "metadata": {
    "id": "235A2D3685B8408FB3FC239F4E12C64C",
    "jupyter": {},
    "mdEditEnable": false,
    "notebookId": "637ae5ac53342897d9864ce8",
    "runtime": {
     "execution_status": null,
     "is_visible": false,
     "status": "default"
    },
    "scrolled": false,
    "slideshow": {
     "slide_type": "slide"
    },
    "tags": [],
    "trusted": true
   },
   "source": [
    "## 0. 项目介绍与说明  \n",
    "<!--和鲸社区🐋：Shelter原创(https://www.heywhale.com/mw/project/637ae5ac53342897d9864cde)-->"
   ]
  },
  {
   "cell_type": "markdown",
   "metadata": {
    "id": "F39BB46EB6EA4BC1A00246919796F239",
    "jupyter": {},
    "mdEditEnable": false,
    "notebookId": "637ae5ac53342897d9864ce8",
    "runtime": {
     "execution_status": null,
     "is_visible": false,
     "status": "default"
    },
    "scrolled": false,
    "slideshow": {
     "slide_type": "slide"
    },
    "tags": [],
    "trusted": true
   },
   "source": [
    "### **数据集说明**  \n",
    "\n",
    "|      字段名       |   释义   |    字段名     |   释义   |    字段名    |   释义   |  \n",
    "| :---------------: | :------: | :-----------: | :------: | :----------: | :------: |  \n",
    "|      **uid**      |  用户id  | **user_city** | 用户城市 | **item_id**  |  作品id  |  \n",
    "|   **author_id**   |  作者id  | **item_city** | 作者城市 | **channel**  | 作品频道 |  \n",
    "|    **finish**     | 是否看完 |   **like**    | 是否点赞 | **music_id** |  音乐id  |  \n",
    "| **duration_time** | 作品时长 | **real_time** | 具体发布时间 | **H、date**  |  时、天(发布)  |"
   ]
  },
  {
   "cell_type": "markdown",
   "metadata": {
    "id": "2ADDD897D59C46D88D9BAAD5300DFF10",
    "jupyter": {},
    "mdEditEnable": false,
    "notebookId": "637ae5ac53342897d9864ce8",
    "runtime": {
     "execution_status": null,
     "is_visible": false,
     "status": "default"
    },
    "scrolled": false,
    "slideshow": {
     "slide_type": "slide"
    },
    "tags": [],
    "trusted": true
   },
   "source": [
    "### 浏览行为  \n",
    "\n",
    "每一条数据都是由用户主动发起的，与创作者视频进行交互的行为记录，包括  \n",
    "- 什么人(用户)  \n",
    "- 看了谁的(作者)  \n",
    "- 什么视频(作品、发布时间、音乐、时长)  \n",
    "- 什么渠道  \n",
    "- 是否看完  \n",
    "- 是否点赞  \n",
    "- 音乐和时间等  \n",
    "\n",
    "我们可以将浏览行为的数据简单的分类为：  \n",
    "1. 用户信息：$uid，user\\_city$  \n",
    "2. 作品信息：$item\\_id, item\\_city, channel, music_id, duration\\_time, real\\_time, H、date$  \n",
    "3. 作者信息：$author_id$  \n",
    "4. 浏览行为描述：$finish, like$  \n",
    "\n",
    "同时可以从浏览行为中抽象出：用户、作品、作者、音乐、城市等实体，在本项目中，我们仅对用户、作者和作品角度进行简单分析，并加入一些数据分析方法"
   ]
  },
  {
   "cell_type": "code",
   "execution_count": 20,
   "metadata": {
    "collapsed": false,
    "id": "E10636CC1D36470B8A882679E9558BA9",
    "jupyter": {},
    "notebookId": "637ae5ac53342897d9864ce8",
    "scrolled": false,
    "slideshow": {
     "slide_type": "slide"
    },
    "tags": [],
    "trusted": true
   },
   "outputs": [],
   "source": [
    "import pandas as pd\n",
    "import numpy as np"
   ]
  },
  {
   "cell_type": "markdown",
   "metadata": {
    "id": "FA3E1496E36742A999951DAC043BDA6B",
    "jupyter": {},
    "mdEditEnable": false,
    "notebookId": "637ae5ac53342897d9864ce8",
    "runtime": {
     "execution_status": null,
     "is_visible": false,
     "status": "default"
    },
    "scrolled": false,
    "slideshow": {
     "slide_type": "slide"
    },
    "tags": [],
    "trusted": true
   },
   "source": [
    "## 1. 数据简单处理"
   ]
  },
  {
   "cell_type": "code",
   "execution_count": 21,
   "metadata": {
    "collapsed": false,
    "id": "C8476A64C0974B75BB3798E571C452C7",
    "jupyter": {},
    "notebookId": "637ae5ac53342897d9864ce8",
    "scrolled": false,
    "slideshow": {
     "slide_type": "slide"
    },
    "tags": [],
    "trusted": true
   },
   "outputs": [
    {
     "data": {
      "text/html": [
       "<div>\n",
       "<style scoped>\n",
       "    .dataframe tbody tr th:only-of-type {\n",
       "        vertical-align: middle;\n",
       "    }\n",
       "\n",
       "    .dataframe tbody tr th {\n",
       "        vertical-align: top;\n",
       "    }\n",
       "\n",
       "    .dataframe thead th {\n",
       "        text-align: right;\n",
       "    }\n",
       "</style>\n",
       "<table border=\"1\" class=\"dataframe\">\n",
       "  <thead>\n",
       "    <tr style=\"text-align: right;\">\n",
       "      <th></th>\n",
       "      <th>Unnamed: 0</th>\n",
       "      <th>uid</th>\n",
       "      <th>user_city</th>\n",
       "      <th>item_id</th>\n",
       "      <th>author_id</th>\n",
       "      <th>item_city</th>\n",
       "      <th>channel</th>\n",
       "      <th>finish</th>\n",
       "      <th>like</th>\n",
       "      <th>music_id</th>\n",
       "      <th>duration_time</th>\n",
       "      <th>real_time</th>\n",
       "      <th>H</th>\n",
       "      <th>date</th>\n",
       "    </tr>\n",
       "  </thead>\n",
       "  <tbody>\n",
       "    <tr>\n",
       "      <th>0</th>\n",
       "      <td>3</td>\n",
       "      <td>15692</td>\n",
       "      <td>109.0</td>\n",
       "      <td>691661</td>\n",
       "      <td>18212</td>\n",
       "      <td>213.0</td>\n",
       "      <td>0</td>\n",
       "      <td>0</td>\n",
       "      <td>0</td>\n",
       "      <td>11513.0</td>\n",
       "      <td>10</td>\n",
       "      <td>2019-10-28 21:55:10</td>\n",
       "      <td>21</td>\n",
       "      <td>2019-10-28</td>\n",
       "    </tr>\n",
       "    <tr>\n",
       "      <th>1</th>\n",
       "      <td>5</td>\n",
       "      <td>44071</td>\n",
       "      <td>80.0</td>\n",
       "      <td>1243212</td>\n",
       "      <td>34500</td>\n",
       "      <td>68.0</td>\n",
       "      <td>0</td>\n",
       "      <td>0</td>\n",
       "      <td>0</td>\n",
       "      <td>1274.0</td>\n",
       "      <td>9</td>\n",
       "      <td>2019-10-21 22:27:03</td>\n",
       "      <td>22</td>\n",
       "      <td>2019-10-21</td>\n",
       "    </tr>\n",
       "    <tr>\n",
       "      <th>2</th>\n",
       "      <td>16</td>\n",
       "      <td>10902</td>\n",
       "      <td>202.0</td>\n",
       "      <td>3845855</td>\n",
       "      <td>634066</td>\n",
       "      <td>113.0</td>\n",
       "      <td>0</td>\n",
       "      <td>0</td>\n",
       "      <td>0</td>\n",
       "      <td>762.0</td>\n",
       "      <td>10</td>\n",
       "      <td>2019-10-26 00:38:51</td>\n",
       "      <td>0</td>\n",
       "      <td>2019-10-26</td>\n",
       "    </tr>\n",
       "    <tr>\n",
       "      <th>3</th>\n",
       "      <td>19</td>\n",
       "      <td>25300</td>\n",
       "      <td>21.0</td>\n",
       "      <td>3929579</td>\n",
       "      <td>214923</td>\n",
       "      <td>330.0</td>\n",
       "      <td>0</td>\n",
       "      <td>0</td>\n",
       "      <td>0</td>\n",
       "      <td>2332.0</td>\n",
       "      <td>15</td>\n",
       "      <td>2019-10-25 20:36:25</td>\n",
       "      <td>20</td>\n",
       "      <td>2019-10-25</td>\n",
       "    </tr>\n",
       "    <tr>\n",
       "      <th>4</th>\n",
       "      <td>24</td>\n",
       "      <td>3656</td>\n",
       "      <td>138.0</td>\n",
       "      <td>2572269</td>\n",
       "      <td>182680</td>\n",
       "      <td>80.0</td>\n",
       "      <td>0</td>\n",
       "      <td>0</td>\n",
       "      <td>0</td>\n",
       "      <td>238.0</td>\n",
       "      <td>9</td>\n",
       "      <td>2019-10-21 20:46:29</td>\n",
       "      <td>20</td>\n",
       "      <td>2019-10-21</td>\n",
       "    </tr>\n",
       "  </tbody>\n",
       "</table>\n",
       "</div>"
      ],
      "text/plain": [
       "   Unnamed: 0    uid  user_city  item_id  author_id  item_city  channel  \\\n",
       "0           3  15692      109.0   691661      18212      213.0        0   \n",
       "1           5  44071       80.0  1243212      34500       68.0        0   \n",
       "2          16  10902      202.0  3845855     634066      113.0        0   \n",
       "3          19  25300       21.0  3929579     214923      330.0        0   \n",
       "4          24   3656      138.0  2572269     182680       80.0        0   \n",
       "\n",
       "   finish  like  music_id  duration_time            real_time   H        date  \n",
       "0       0     0   11513.0             10  2019-10-28 21:55:10  21  2019-10-28  \n",
       "1       0     0    1274.0              9  2019-10-21 22:27:03  22  2019-10-21  \n",
       "2       0     0     762.0             10  2019-10-26 00:38:51   0  2019-10-26  \n",
       "3       0     0    2332.0             15  2019-10-25 20:36:25  20  2019-10-25  \n",
       "4       0     0     238.0              9  2019-10-21 20:46:29  20  2019-10-21  "
      ]
     },
     "execution_count": 21,
     "metadata": {},
     "output_type": "execute_result"
    }
   ],
   "source": [
    "df = pd.read_csv('./data/douyin_dataset.csv')\n",
    "df.head()"
   ]
  },
  {
   "cell_type": "markdown",
   "metadata": {
    "id": "AB96D223B7124A8D8BBEFE196C4B5F63",
    "jupyter": {},
    "mdEditEnable": false,
    "notebookId": "637ae5ac53342897d9864ce8",
    "runtime": {
     "execution_status": null,
     "is_visible": false,
     "status": "default"
    },
    "scrolled": false,
    "slideshow": {
     "slide_type": "slide"
    },
    "tags": [],
    "trusted": true
   },
   "source": [
    "无效字段的删除[Unnamed:0]"
   ]
  },
  {
   "cell_type": "code",
   "execution_count": 22,
   "metadata": {
    "collapsed": false,
    "id": "2E4502F9F1F441708431FE47091A54CD",
    "jupyter": {},
    "notebookId": "637ae5ac53342897d9864ce8",
    "scrolled": false,
    "slideshow": {
     "slide_type": "slide"
    },
    "tags": [],
    "trusted": true
   },
   "outputs": [],
   "source": [
    "del df['Unnamed: 0']"
   ]
  },
  {
   "cell_type": "code",
   "execution_count": 23,
   "metadata": {
    "collapsed": false,
    "id": "DABEBEFEEAD24450B7C2601D8055DBD4",
    "jupyter": {},
    "notebookId": "637ae5ac53342897d9864ce8",
    "scrolled": false,
    "slideshow": {
     "slide_type": "slide"
    },
    "tags": [],
    "trusted": true
   },
   "outputs": [
    {
     "data": {
      "text/plain": [
       "uid              0\n",
       "user_city        0\n",
       "item_id          0\n",
       "author_id        0\n",
       "item_city        0\n",
       "channel          0\n",
       "finish           0\n",
       "like             0\n",
       "music_id         0\n",
       "duration_time    0\n",
       "real_time        0\n",
       "H                0\n",
       "date             0\n",
       "dtype: int64"
      ]
     },
     "execution_count": 23,
     "metadata": {},
     "output_type": "execute_result"
    }
   ],
   "source": [
    "# 数据基本信息基本信息\n",
    "df.isnull().sum()"
   ]
  },
  {
   "cell_type": "markdown",
   "metadata": {
    "id": "92CF9AAE03D64D748DE446E301CBDB0D",
    "jupyter": {},
    "mdEditEnable": false,
    "notebookId": "637ae5ac53342897d9864ce8",
    "runtime": {
     "execution_status": null,
     "is_visible": false,
     "status": "default"
    },
    "scrolled": false,
    "slideshow": {
     "slide_type": "slide"
    },
    "tags": [],
    "trusted": true
   },
   "source": [
    "数据无空缺"
   ]
  },
  {
   "cell_type": "markdown",
   "metadata": {
    "id": "D60569B26F7649EC8E0E52FFA1F1E89B",
    "jupyter": {},
    "mdEditEnable": false,
    "notebookId": "637ae5ac53342897d9864ce8",
    "runtime": {
     "execution_status": null,
     "is_visible": false,
     "status": "default"
    },
    "scrolled": false,
    "slideshow": {
     "slide_type": "slide"
    },
    "tags": [],
    "trusted": true
   },
   "source": [
    "## 2. 特征指标构建"
   ]
  },
  {
   "cell_type": "markdown",
   "metadata": {
    "id": "C7BE849797444346A95FC2AB2022E346",
    "jupyter": {},
    "mdEditEnable": false,
    "notebookId": "637ae5ac53342897d9864ce8",
    "runtime": {
     "execution_status": null,
     "is_visible": false,
     "status": "default"
    },
    "scrolled": false,
    "slideshow": {
     "slide_type": "slide"
    },
    "tags": [],
    "trusted": true
   },
   "source": [
    "### 用户指标分析：  \n",
    "站在用户的角度，涉及到浏览量，点赞量，浏览的作品、作者、BGM的总数等，拟定统计指标如下：  \n",
    "\n",
    "![Image Name](https://cdn.kesci.com/upload/image/rlogotnr3s.jpg?imageView2/0/w/640/h/640)  \n"
   ]
  },
  {
   "cell_type": "markdown",
   "metadata": {
    "id": "75BE597DD266437986267A9059999E06",
    "jupyter": {},
    "mdEditEnable": false,
    "notebookId": "637ae5ac53342897d9864ce8",
    "runtime": {
     "execution_status": null,
     "is_visible": false,
     "status": "default"
    },
    "scrolled": false,
    "slideshow": {
     "slide_type": "slide"
    },
    "tags": [],
    "trusted": true
   },
   "source": [
    "### 作者指标分析：  \n",
    "站在作者的角度，涉及到总浏览量，总点赞量等，拟定指标如下：  \n",
    "\n",
    "![Image Name](https://cdn.kesci.com/upload/image/rlogqpozah.jpg?imageView2/0/w/640/h/640)  \n",
    "\n"
   ]
  },
  {
   "cell_type": "markdown",
   "metadata": {
    "id": "31B34CE52D374CA786894837ED822182",
    "jupyter": {},
    "mdEditEnable": false,
    "notebookId": "637ae5ac53342897d9864ce8",
    "runtime": {
     "execution_status": null,
     "is_visible": false,
     "status": "default"
    },
    "scrolled": false,
    "slideshow": {
     "slide_type": "slide"
    },
    "tags": [],
    "trusted": true
   },
   "source": [
    "### 作品指标分析：  \n",
    "站在作品的角度，简单分析，拟定统计指标如下：  \n",
    "\n",
    "![Image Name](https://cdn.kesci.com/upload/image/rlogs97yqy.jpg?imageView2/0/w/640/h/640)  \n"
   ]
  },
  {
   "cell_type": "markdown",
   "metadata": {
    "id": "CCA44345D84F4CF5A82118CF3C1146CB",
    "jupyter": {},
    "mdEditEnable": false,
    "notebookId": "637ae5ac53342897d9864ce8",
    "runtime": {
     "execution_status": null,
     "is_visible": false,
     "status": "default"
    },
    "scrolled": false,
    "slideshow": {
     "slide_type": "slide"
    },
    "tags": [],
    "trusted": true
   },
   "source": [
    "## 3. 特征指标统计分析"
   ]
  },
  {
   "cell_type": "markdown",
   "metadata": {
    "id": "FEDA91FFF1BC42059F88FE03F3E84FCB",
    "jupyter": {},
    "mdEditEnable": false,
    "notebookId": "637ae5ac53342897d9864ce8",
    "runtime": {
     "execution_status": null,
     "is_visible": false,
     "status": "default"
    },
    "scrolled": false,
    "slideshow": {
     "slide_type": "slide"
    },
    "tags": [],
    "trusted": true
   },
   "source": [
    "### 3.1 用户特征统计分析"
   ]
  },
  {
   "cell_type": "code",
   "execution_count": 24,
   "metadata": {
    "collapsed": false,
    "id": "827BD05F5BFB43B78DADBD603751835A",
    "jupyter": {},
    "notebookId": "637ae5ac53342897d9864ce8",
    "scrolled": false,
    "slideshow": {
     "slide_type": "slide"
    },
    "tags": [],
    "trusted": true
   },
   "outputs": [],
   "source": [
    "user_df = pd.DataFrame()\n",
    "user_df['uid'] = df.groupby('uid')['like'].count().index.tolist() # 将所有用户的uid提取为uid列\n",
    "user_df.set_index('uid', inplace=True) # 设置uid列为index，方便后续数据自动对齐\n",
    "user_df['浏览量'] = df.groupby('uid')['like'].count() # 统计对应uid下的浏览量\n",
    "user_df['点赞量']  = df.groupby('uid')['like'].sum() # 统计对应uid下的点赞量\n",
    "user_df['观看作者数'] = df.groupby(['uid']).agg({'author_id':pd.Series.nunique}) # 观看作者数\n",
    "user_df['观看作品数'] = df.groupby(['uid']).agg({'item_id':pd.Series.nunique}) # 观看作品数\n",
    "user_df['观看作品平均时长'] = df.groupby(['uid'])['duration_time'].mean() # 浏览作品平均时长\n",
    "user_df['观看配乐数'] = df.groupby(['uid']).agg({'music_id':pd.Series.nunique}) # 观看作品中配乐的数量\n",
    "user_df['完整观看数']  = df.groupby('uid')['finish'].sum() # 统计对应uid下的完整观看数\n",
    "# 统计对应uid用户去过的城市数量\n",
    "user_df['去过的城市数'] = df.groupby(['uid']).agg({'user_city':pd.Series.nunique})\n",
    "# 统计对应uid用户看的作品所在的城市数量\n",
    "user_df['观看作品城市数'] = df.groupby(['uid']).agg({'item_city':pd.Series.nunique})\n",
    "user_df.describe()\n",
    "\n",
    "user_df.to_csv('./result/用户特征.csv', encoding='utf_8_sig')"
   ]
  },
  {
   "cell_type": "markdown",
   "metadata": {
    "id": "6BFF990B65934DBB9167B7AB275C55B2",
    "jupyter": {},
    "mdEditEnable": false,
    "notebookId": "637ae5ac53342897d9864ce8",
    "runtime": {
     "execution_status": null,
     "is_visible": false,
     "status": "default"
    },
    "scrolled": false,
    "slideshow": {
     "slide_type": "slide"
    },
    "tags": [],
    "trusted": true
   },
   "source": [
    "### 3.2 作者特征统计分析"
   ]
  },
  {
   "cell_type": "code",
   "execution_count": 25,
   "metadata": {
    "collapsed": false,
    "id": "72810583A1024BE1BF2E59ADBC27C14D",
    "jupyter": {},
    "notebookId": "637ae5ac53342897d9864ce8",
    "scrolled": false,
    "slideshow": {
     "slide_type": "slide"
    },
    "tags": [],
    "trusted": true
   },
   "outputs": [],
   "source": [
    "author_df = pd.DataFrame()\n",
    "author_df['author_id'] = df.groupby('author_id')['like'].count().index.tolist()\n",
    "author_df.set_index('author_id', inplace=True)\n",
    "author_df['总浏览量'] = df.groupby('author_id')['like'].count()\n",
    "author_df['总点赞量']  = df.groupby('author_id')['like'].sum()\n",
    "author_df['总观完量']  = df.groupby('author_id')['finish'].sum()\n",
    "author_df['总作品数'] = df.groupby('author_id').agg({'item_id':pd.Series.nunique})\n",
    "\n",
    "author_df['作品平均时长'] = df.groupby(['author_id'])['duration_time'].mean()\n",
    "\n",
    "author_df['使用配乐数量'] = df.groupby('author_id').agg({'music_id':pd.Series.nunique})\n",
    "author_df['发布作品日数'] = df.groupby('author_id').agg({'real_time':pd.Series.nunique})\n",
    "\n",
    "author_days = df.groupby('author_id')['date']\n",
    "_ = pd.to_datetime(author_days.max()) - pd.to_datetime(author_days.min())\n",
    "author_df['创作活跃度(日)'] = _.dt.days + 1\n",
    "author_df['去过的城市数'] = df.groupby(['author_id']).agg({'item_city':pd.Series.nunique})\n",
    "author_df.describe()\n",
    "\n",
    "author_df.to_csv('./result/作者特征.csv', encoding='utf_8_sig')"
   ]
  },
  {
   "cell_type": "markdown",
   "metadata": {
    "id": "B7FC5FECC4C9469E8E853165D0A22C11",
    "jupyter": {},
    "mdEditEnable": false,
    "notebookId": "637ae5ac53342897d9864ce8",
    "runtime": {
     "execution_status": null,
     "is_visible": false,
     "status": "default"
    },
    "scrolled": false,
    "slideshow": {
     "slide_type": "slide"
    },
    "tags": [],
    "trusted": true
   },
   "source": [
    "### 3.3 作品特征统计分析"
   ]
  },
  {
   "cell_type": "code",
   "execution_count": 26,
   "metadata": {
    "collapsed": false,
    "id": "0513396FC345490A8E51915EC632AA5D",
    "jupyter": {},
    "notebookId": "637ae5ac53342897d9864ce8",
    "scrolled": false,
    "slideshow": {
     "slide_type": "slide"
    },
    "tags": [],
    "trusted": true
   },
   "outputs": [],
   "source": [
    "item_df = pd.DataFrame()\n",
    "item_df['item_id'] = df.groupby('item_id')['like'].count().index.tolist()\n",
    "item_df.set_index('item_id', inplace=True)\n",
    "item_df['浏览量'] = df.groupby('item_id')['like'].count()\n",
    "item_df['点赞量']  = df.groupby('item_id')['like'].sum()\n",
    "item_df['发布城市'] = df.groupby('item_id')['item_city'].mean()\n",
    "item_df['背景音乐'] = df.groupby('item_id')['music_id'].mean()\n",
    "\n",
    "item_df.to_csv('./result/作品特征.csv', encoding='utf_8_sig')"
   ]
  },
  {
   "cell_type": "markdown",
   "metadata": {
    "id": "A323AC5B7D5C4C2B9E2B43086DAF9EA9",
    "jupyter": {},
    "mdEditEnable": false,
    "notebookId": "637ae5ac53342897d9864ce8",
    "runtime": {
     "execution_status": null,
     "is_visible": false,
     "status": "default"
    },
    "scrolled": false,
    "slideshow": {
     "slide_type": "slide"
    },
    "tags": [],
    "trusted": true
   },
   "source": [
    "### 4. 总结  \n",
    "通过对浏览行为数据的认识和分析，构建并提取了用户、作者、作品的特征，特征的构造和提取并不唯一，如可以统计用户点赞率、作者的观众数等等  \n",
    "后续notebook会对数据特征进行可视化分析与数据挖掘"
   ]
  }
 ],
 "metadata": {
  "kernelspec": {
   "display_name": "Python 3",
   "language": "python",
   "name": "python3"
  },
  "language_info": {
   "codemirror_mode": {
    "name": "ipython",
    "version": 3
   },
   "file_extension": ".py",
   "mimetype": "text/x-python",
   "name": "python",
   "nbconvert_exporter": "python",
   "pygments_lexer": "ipython3",
   "version": "3.11.12"
  }
 },
 "nbformat": 4,
 "nbformat_minor": 0
}
